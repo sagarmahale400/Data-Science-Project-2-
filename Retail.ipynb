{
  "nbformat": 4,
  "nbformat_minor": 0,
  "metadata": {
    "colab": {
      "provenance": [],
      "include_colab_link": true
    },
    "kernelspec": {
      "name": "python3",
      "display_name": "Python 3"
    },
    "language_info": {
      "name": "python"
    },
    "gpuClass": "standard",
    "accelerator": "GPU"
  },
  "cells": [
    {
      "cell_type": "markdown",
      "metadata": {
        "id": "view-in-github",
        "colab_type": "text"
      },
      "source": [
        "<a href=\"https://colab.research.google.com/github/sagarmahale400/Data-Science-Project-2--Retail/blob/main/Retail.ipynb\" target=\"_parent\"><img src=\"https://colab.research.google.com/assets/colab-badge.svg\" alt=\"Open In Colab\"/></a>"
      ]
    },
    {
      "cell_type": "markdown",
      "source": [
        "Name : Sagar Mahale\n",
        "\n",
        "Project : Retail"
      ],
      "metadata": {
        "id": "najd03ziaCLO"
      }
    },
    {
      "cell_type": "markdown",
      "source": [
        "DESCRIPTION\n",
        "\n",
        "Problem Statement:\n",
        "\n",
        "It is a critical requirement for business to understand the value derived from a customer. RFM is a method used for analyzing customer value.\n",
        "Customer segmentation is the practice of segregating the customer base into groups of individuals based on some common characteristics such as age, gender, interests, and spending habits\n",
        "Perform customer segmentation using RFM analysis. The resulting segments can be ordered from most valuable (highest recency, frequency, and value) to least valuable (lowest recency, frequency, and value).\n",
        "\n",
        "Dataset Description:\n",
        "\n",
        "This is a transnational data set which contains all the transactions that occurred between 01/12/2010 and 09/12/2011 for a UK-based and registered non-store online retail. The company mainly sells unique and all-occasion gifts.\n",
        "\n",
        "Variables\tDescription\n",
        "InvoiceNo\tInvoice number : Nominal, a six digit integral number uniquely assigned to each transaction. If this code starts with letter 'c', it indicates a cancellation\n",
        "\n",
        "StockCode : Product (item) code Nominal, a five digit integral number uniquely assigned to each distinct product\n",
        "\n",
        "Description : Product (item) name Nominal\n",
        "\n",
        "Quantity : The quantities of each product (item) per transaction Numeric\n",
        "\n",
        "InvoiceDate : Invoice Date and time Numeric, the day and time when each \n",
        "transaction was generated\n",
        "\n",
        "UnitPrice : Unit price Numeric, product price per unit in sterling\n",
        "\n",
        "CustomerID : Customer number Nominal, a six digit integral number uniquely assigned to each customer\n",
        "\n",
        "Country : Country name Nominal, the name of the country where each customer resides"
      ],
      "metadata": {
        "id": "B6qMDVjaaSVM"
      }
    },
    {
      "cell_type": "markdown",
      "source": [
        "Project Task 1\n",
        "Data Cleaning:\n",
        "\n",
        "1. Perform a preliminary data inspection and data cleaning."
      ],
      "metadata": {
        "id": "24rhH4dLhLNk"
      }
    },
    {
      "cell_type": "code",
      "source": [
        "#import the appropriate the libraries\n",
        "import pandas as pd\n",
        "import numpy as np"
      ],
      "metadata": {
        "id": "zsupqOlUhisJ"
      },
      "execution_count": null,
      "outputs": []
    },
    {
      "cell_type": "code",
      "source": [
        "#Performing the Exploratory Data Analysis \n",
        "train_df=pd.read_excel(\"/content/train.xlsx\")"
      ],
      "metadata": {
        "id": "tjGXcV9atZCd"
      },
      "execution_count": null,
      "outputs": []
    },
    {
      "cell_type": "code",
      "source": [
        "train_df.head()"
      ],
      "metadata": {
        "id": "djvLZi4gMWOp",
        "colab": {
          "base_uri": "https://localhost:8080/",
          "height": 206
        },
        "outputId": "f91bcef2-90d9-46c9-8ed2-bdb87beb2184"
      },
      "execution_count": null,
      "outputs": [
        {
          "output_type": "execute_result",
          "data": {
            "text/plain": [
              "  InvoiceNo StockCode                         Description  Quantity  \\\n",
              "0    558904     22292    HANGING CHICK  YELLOW DECORATION         1   \n",
              "1    556072     20970  PINK FLORAL FELTCRAFT SHOULDER BAG         8   \n",
              "2    551739     21559   STRAWBERRY LUNCH BOX WITH CUTLERY         2   \n",
              "3    541658     21988        PACK OF 6 SKULL PAPER PLATES         1   \n",
              "4    538364    85099C      JUMBO  BAG BAROQUE BLACK WHITE        10   \n",
              "\n",
              "          InvoiceDate  UnitPrice  CustomerID         Country  \n",
              "0 2011-07-04 16:18:00       1.25         NaN  United Kingdom  \n",
              "1 2011-06-08 14:57:00       3.75     16126.0  United Kingdom  \n",
              "2 2011-05-04 10:58:00       2.55     18118.0  United Kingdom  \n",
              "3 2011-01-20 12:16:00       0.85     15529.0  United Kingdom  \n",
              "4 2010-12-10 17:26:00       1.95     14448.0  United Kingdom  "
            ],
            "text/html": [
              "\n",
              "  <div id=\"df-64ee69ab-99a2-4d50-9a46-8455d105396a\">\n",
              "    <div class=\"colab-df-container\">\n",
              "      <div>\n",
              "<style scoped>\n",
              "    .dataframe tbody tr th:only-of-type {\n",
              "        vertical-align: middle;\n",
              "    }\n",
              "\n",
              "    .dataframe tbody tr th {\n",
              "        vertical-align: top;\n",
              "    }\n",
              "\n",
              "    .dataframe thead th {\n",
              "        text-align: right;\n",
              "    }\n",
              "</style>\n",
              "<table border=\"1\" class=\"dataframe\">\n",
              "  <thead>\n",
              "    <tr style=\"text-align: right;\">\n",
              "      <th></th>\n",
              "      <th>InvoiceNo</th>\n",
              "      <th>StockCode</th>\n",
              "      <th>Description</th>\n",
              "      <th>Quantity</th>\n",
              "      <th>InvoiceDate</th>\n",
              "      <th>UnitPrice</th>\n",
              "      <th>CustomerID</th>\n",
              "      <th>Country</th>\n",
              "    </tr>\n",
              "  </thead>\n",
              "  <tbody>\n",
              "    <tr>\n",
              "      <th>0</th>\n",
              "      <td>558904</td>\n",
              "      <td>22292</td>\n",
              "      <td>HANGING CHICK  YELLOW DECORATION</td>\n",
              "      <td>1</td>\n",
              "      <td>2011-07-04 16:18:00</td>\n",
              "      <td>1.25</td>\n",
              "      <td>NaN</td>\n",
              "      <td>United Kingdom</td>\n",
              "    </tr>\n",
              "    <tr>\n",
              "      <th>1</th>\n",
              "      <td>556072</td>\n",
              "      <td>20970</td>\n",
              "      <td>PINK FLORAL FELTCRAFT SHOULDER BAG</td>\n",
              "      <td>8</td>\n",
              "      <td>2011-06-08 14:57:00</td>\n",
              "      <td>3.75</td>\n",
              "      <td>16126.0</td>\n",
              "      <td>United Kingdom</td>\n",
              "    </tr>\n",
              "    <tr>\n",
              "      <th>2</th>\n",
              "      <td>551739</td>\n",
              "      <td>21559</td>\n",
              "      <td>STRAWBERRY LUNCH BOX WITH CUTLERY</td>\n",
              "      <td>2</td>\n",
              "      <td>2011-05-04 10:58:00</td>\n",
              "      <td>2.55</td>\n",
              "      <td>18118.0</td>\n",
              "      <td>United Kingdom</td>\n",
              "    </tr>\n",
              "    <tr>\n",
              "      <th>3</th>\n",
              "      <td>541658</td>\n",
              "      <td>21988</td>\n",
              "      <td>PACK OF 6 SKULL PAPER PLATES</td>\n",
              "      <td>1</td>\n",
              "      <td>2011-01-20 12:16:00</td>\n",
              "      <td>0.85</td>\n",
              "      <td>15529.0</td>\n",
              "      <td>United Kingdom</td>\n",
              "    </tr>\n",
              "    <tr>\n",
              "      <th>4</th>\n",
              "      <td>538364</td>\n",
              "      <td>85099C</td>\n",
              "      <td>JUMBO  BAG BAROQUE BLACK WHITE</td>\n",
              "      <td>10</td>\n",
              "      <td>2010-12-10 17:26:00</td>\n",
              "      <td>1.95</td>\n",
              "      <td>14448.0</td>\n",
              "      <td>United Kingdom</td>\n",
              "    </tr>\n",
              "  </tbody>\n",
              "</table>\n",
              "</div>\n",
              "      <button class=\"colab-df-convert\" onclick=\"convertToInteractive('df-64ee69ab-99a2-4d50-9a46-8455d105396a')\"\n",
              "              title=\"Convert this dataframe to an interactive table.\"\n",
              "              style=\"display:none;\">\n",
              "        \n",
              "  <svg xmlns=\"http://www.w3.org/2000/svg\" height=\"24px\"viewBox=\"0 0 24 24\"\n",
              "       width=\"24px\">\n",
              "    <path d=\"M0 0h24v24H0V0z\" fill=\"none\"/>\n",
              "    <path d=\"M18.56 5.44l.94 2.06.94-2.06 2.06-.94-2.06-.94-.94-2.06-.94 2.06-2.06.94zm-11 1L8.5 8.5l.94-2.06 2.06-.94-2.06-.94L8.5 2.5l-.94 2.06-2.06.94zm10 10l.94 2.06.94-2.06 2.06-.94-2.06-.94-.94-2.06-.94 2.06-2.06.94z\"/><path d=\"M17.41 7.96l-1.37-1.37c-.4-.4-.92-.59-1.43-.59-.52 0-1.04.2-1.43.59L10.3 9.45l-7.72 7.72c-.78.78-.78 2.05 0 2.83L4 21.41c.39.39.9.59 1.41.59.51 0 1.02-.2 1.41-.59l7.78-7.78 2.81-2.81c.8-.78.8-2.07 0-2.86zM5.41 20L4 18.59l7.72-7.72 1.47 1.35L5.41 20z\"/>\n",
              "  </svg>\n",
              "      </button>\n",
              "      \n",
              "  <style>\n",
              "    .colab-df-container {\n",
              "      display:flex;\n",
              "      flex-wrap:wrap;\n",
              "      gap: 12px;\n",
              "    }\n",
              "\n",
              "    .colab-df-convert {\n",
              "      background-color: #E8F0FE;\n",
              "      border: none;\n",
              "      border-radius: 50%;\n",
              "      cursor: pointer;\n",
              "      display: none;\n",
              "      fill: #1967D2;\n",
              "      height: 32px;\n",
              "      padding: 0 0 0 0;\n",
              "      width: 32px;\n",
              "    }\n",
              "\n",
              "    .colab-df-convert:hover {\n",
              "      background-color: #E2EBFA;\n",
              "      box-shadow: 0px 1px 2px rgba(60, 64, 67, 0.3), 0px 1px 3px 1px rgba(60, 64, 67, 0.15);\n",
              "      fill: #174EA6;\n",
              "    }\n",
              "\n",
              "    [theme=dark] .colab-df-convert {\n",
              "      background-color: #3B4455;\n",
              "      fill: #D2E3FC;\n",
              "    }\n",
              "\n",
              "    [theme=dark] .colab-df-convert:hover {\n",
              "      background-color: #434B5C;\n",
              "      box-shadow: 0px 1px 3px 1px rgba(0, 0, 0, 0.15);\n",
              "      filter: drop-shadow(0px 1px 2px rgba(0, 0, 0, 0.3));\n",
              "      fill: #FFFFFF;\n",
              "    }\n",
              "  </style>\n",
              "\n",
              "      <script>\n",
              "        const buttonEl =\n",
              "          document.querySelector('#df-64ee69ab-99a2-4d50-9a46-8455d105396a button.colab-df-convert');\n",
              "        buttonEl.style.display =\n",
              "          google.colab.kernel.accessAllowed ? 'block' : 'none';\n",
              "\n",
              "        async function convertToInteractive(key) {\n",
              "          const element = document.querySelector('#df-64ee69ab-99a2-4d50-9a46-8455d105396a');\n",
              "          const dataTable =\n",
              "            await google.colab.kernel.invokeFunction('convertToInteractive',\n",
              "                                                     [key], {});\n",
              "          if (!dataTable) return;\n",
              "\n",
              "          const docLinkHtml = 'Like what you see? Visit the ' +\n",
              "            '<a target=\"_blank\" href=https://colab.research.google.com/notebooks/data_table.ipynb>data table notebook</a>'\n",
              "            + ' to learn more about interactive tables.';\n",
              "          element.innerHTML = '';\n",
              "          dataTable['output_type'] = 'display_data';\n",
              "          await google.colab.output.renderOutput(dataTable, element);\n",
              "          const docLink = document.createElement('div');\n",
              "          docLink.innerHTML = docLinkHtml;\n",
              "          element.appendChild(docLink);\n",
              "        }\n",
              "      </script>\n",
              "    </div>\n",
              "  </div>\n",
              "  "
            ]
          },
          "metadata": {},
          "execution_count": 3
        }
      ]
    },
    {
      "cell_type": "code",
      "source": [
        "train_df.info()"
      ],
      "metadata": {
        "id": "p1CfvMkMMWcK",
        "colab": {
          "base_uri": "https://localhost:8080/"
        },
        "outputId": "ec08ae10-0a7d-433e-f120-e7d382ab2e29"
      },
      "execution_count": null,
      "outputs": [
        {
          "output_type": "stream",
          "name": "stdout",
          "text": [
            "<class 'pandas.core.frame.DataFrame'>\n",
            "RangeIndex: 379336 entries, 0 to 379335\n",
            "Data columns (total 8 columns):\n",
            " #   Column       Non-Null Count   Dtype         \n",
            "---  ------       --------------   -----         \n",
            " 0   InvoiceNo    379336 non-null  object        \n",
            " 1   StockCode    379336 non-null  object        \n",
            " 2   Description  378373 non-null  object        \n",
            " 3   Quantity     379336 non-null  int64         \n",
            " 4   InvoiceDate  379336 non-null  datetime64[ns]\n",
            " 5   UnitPrice    379336 non-null  float64       \n",
            " 6   CustomerID   285076 non-null  float64       \n",
            " 7   Country      379336 non-null  object        \n",
            "dtypes: datetime64[ns](1), float64(2), int64(1), object(4)\n",
            "memory usage: 23.2+ MB\n"
          ]
        }
      ]
    },
    {
      "cell_type": "code",
      "source": [
        "train_df.shape"
      ],
      "metadata": {
        "id": "YiWWlrF7MWn7",
        "colab": {
          "base_uri": "https://localhost:8080/"
        },
        "outputId": "a73f35c8-3b07-419c-f932-900be0f5ae44"
      },
      "execution_count": null,
      "outputs": [
        {
          "output_type": "execute_result",
          "data": {
            "text/plain": [
              "(379336, 8)"
            ]
          },
          "metadata": {},
          "execution_count": 5
        }
      ]
    },
    {
      "cell_type": "code",
      "source": [
        "test_df=pd.read_excel(\"/content/test.xlsx\")"
      ],
      "metadata": {
        "id": "TqiUHVVatZIh"
      },
      "execution_count": null,
      "outputs": []
    },
    {
      "cell_type": "code",
      "source": [
        "test_df.head()"
      ],
      "metadata": {
        "id": "-uiIRqT8tZRp",
        "colab": {
          "base_uri": "https://localhost:8080/",
          "height": 206
        },
        "outputId": "8b6ff804-229c-4538-9299-5456a2099a99"
      },
      "execution_count": null,
      "outputs": [
        {
          "output_type": "execute_result",
          "data": {
            "text/plain": [
              "  InvoiceNo StockCode                         Description  Quantity  \\\n",
              "0    562955    84660c            PINK STITCHED WALL CLOCK         3   \n",
              "1    548451     22707                   WRAP MONSTER FUN         50   \n",
              "2    568180     22534       MAGIC DRAWING SLATE SPACEBOY         12   \n",
              "3    577078    47369B  BLUE GREEN EMBROIDERY COSMETIC BAG         1   \n",
              "4   C569891     22720   SET OF 3 CAKE TINS PANTRY DESIGN         -2   \n",
              "\n",
              "          InvoiceDate  UnitPrice  CustomerID         Country  \n",
              "0 2011-08-11 10:14:00       7.46         NaN  United Kingdom  \n",
              "1 2011-03-31 11:25:00       0.42     17365.0  United Kingdom  \n",
              "2 2011-09-25 13:42:00       0.42     15429.0  United Kingdom  \n",
              "3 2011-11-17 15:17:00       5.79         NaN  United Kingdom  \n",
              "4 2011-10-06 15:46:00       4.95     13924.0  United Kingdom  "
            ],
            "text/html": [
              "\n",
              "  <div id=\"df-7594c75a-0a86-4d61-a0de-2a7b999d9306\">\n",
              "    <div class=\"colab-df-container\">\n",
              "      <div>\n",
              "<style scoped>\n",
              "    .dataframe tbody tr th:only-of-type {\n",
              "        vertical-align: middle;\n",
              "    }\n",
              "\n",
              "    .dataframe tbody tr th {\n",
              "        vertical-align: top;\n",
              "    }\n",
              "\n",
              "    .dataframe thead th {\n",
              "        text-align: right;\n",
              "    }\n",
              "</style>\n",
              "<table border=\"1\" class=\"dataframe\">\n",
              "  <thead>\n",
              "    <tr style=\"text-align: right;\">\n",
              "      <th></th>\n",
              "      <th>InvoiceNo</th>\n",
              "      <th>StockCode</th>\n",
              "      <th>Description</th>\n",
              "      <th>Quantity</th>\n",
              "      <th>InvoiceDate</th>\n",
              "      <th>UnitPrice</th>\n",
              "      <th>CustomerID</th>\n",
              "      <th>Country</th>\n",
              "    </tr>\n",
              "  </thead>\n",
              "  <tbody>\n",
              "    <tr>\n",
              "      <th>0</th>\n",
              "      <td>562955</td>\n",
              "      <td>84660c</td>\n",
              "      <td>PINK STITCHED WALL CLOCK</td>\n",
              "      <td>3</td>\n",
              "      <td>2011-08-11 10:14:00</td>\n",
              "      <td>7.46</td>\n",
              "      <td>NaN</td>\n",
              "      <td>United Kingdom</td>\n",
              "    </tr>\n",
              "    <tr>\n",
              "      <th>1</th>\n",
              "      <td>548451</td>\n",
              "      <td>22707</td>\n",
              "      <td>WRAP MONSTER FUN</td>\n",
              "      <td>50</td>\n",
              "      <td>2011-03-31 11:25:00</td>\n",
              "      <td>0.42</td>\n",
              "      <td>17365.0</td>\n",
              "      <td>United Kingdom</td>\n",
              "    </tr>\n",
              "    <tr>\n",
              "      <th>2</th>\n",
              "      <td>568180</td>\n",
              "      <td>22534</td>\n",
              "      <td>MAGIC DRAWING SLATE SPACEBOY</td>\n",
              "      <td>12</td>\n",
              "      <td>2011-09-25 13:42:00</td>\n",
              "      <td>0.42</td>\n",
              "      <td>15429.0</td>\n",
              "      <td>United Kingdom</td>\n",
              "    </tr>\n",
              "    <tr>\n",
              "      <th>3</th>\n",
              "      <td>577078</td>\n",
              "      <td>47369B</td>\n",
              "      <td>BLUE GREEN EMBROIDERY COSMETIC BAG</td>\n",
              "      <td>1</td>\n",
              "      <td>2011-11-17 15:17:00</td>\n",
              "      <td>5.79</td>\n",
              "      <td>NaN</td>\n",
              "      <td>United Kingdom</td>\n",
              "    </tr>\n",
              "    <tr>\n",
              "      <th>4</th>\n",
              "      <td>C569891</td>\n",
              "      <td>22720</td>\n",
              "      <td>SET OF 3 CAKE TINS PANTRY DESIGN</td>\n",
              "      <td>-2</td>\n",
              "      <td>2011-10-06 15:46:00</td>\n",
              "      <td>4.95</td>\n",
              "      <td>13924.0</td>\n",
              "      <td>United Kingdom</td>\n",
              "    </tr>\n",
              "  </tbody>\n",
              "</table>\n",
              "</div>\n",
              "      <button class=\"colab-df-convert\" onclick=\"convertToInteractive('df-7594c75a-0a86-4d61-a0de-2a7b999d9306')\"\n",
              "              title=\"Convert this dataframe to an interactive table.\"\n",
              "              style=\"display:none;\">\n",
              "        \n",
              "  <svg xmlns=\"http://www.w3.org/2000/svg\" height=\"24px\"viewBox=\"0 0 24 24\"\n",
              "       width=\"24px\">\n",
              "    <path d=\"M0 0h24v24H0V0z\" fill=\"none\"/>\n",
              "    <path d=\"M18.56 5.44l.94 2.06.94-2.06 2.06-.94-2.06-.94-.94-2.06-.94 2.06-2.06.94zm-11 1L8.5 8.5l.94-2.06 2.06-.94-2.06-.94L8.5 2.5l-.94 2.06-2.06.94zm10 10l.94 2.06.94-2.06 2.06-.94-2.06-.94-.94-2.06-.94 2.06-2.06.94z\"/><path d=\"M17.41 7.96l-1.37-1.37c-.4-.4-.92-.59-1.43-.59-.52 0-1.04.2-1.43.59L10.3 9.45l-7.72 7.72c-.78.78-.78 2.05 0 2.83L4 21.41c.39.39.9.59 1.41.59.51 0 1.02-.2 1.41-.59l7.78-7.78 2.81-2.81c.8-.78.8-2.07 0-2.86zM5.41 20L4 18.59l7.72-7.72 1.47 1.35L5.41 20z\"/>\n",
              "  </svg>\n",
              "      </button>\n",
              "      \n",
              "  <style>\n",
              "    .colab-df-container {\n",
              "      display:flex;\n",
              "      flex-wrap:wrap;\n",
              "      gap: 12px;\n",
              "    }\n",
              "\n",
              "    .colab-df-convert {\n",
              "      background-color: #E8F0FE;\n",
              "      border: none;\n",
              "      border-radius: 50%;\n",
              "      cursor: pointer;\n",
              "      display: none;\n",
              "      fill: #1967D2;\n",
              "      height: 32px;\n",
              "      padding: 0 0 0 0;\n",
              "      width: 32px;\n",
              "    }\n",
              "\n",
              "    .colab-df-convert:hover {\n",
              "      background-color: #E2EBFA;\n",
              "      box-shadow: 0px 1px 2px rgba(60, 64, 67, 0.3), 0px 1px 3px 1px rgba(60, 64, 67, 0.15);\n",
              "      fill: #174EA6;\n",
              "    }\n",
              "\n",
              "    [theme=dark] .colab-df-convert {\n",
              "      background-color: #3B4455;\n",
              "      fill: #D2E3FC;\n",
              "    }\n",
              "\n",
              "    [theme=dark] .colab-df-convert:hover {\n",
              "      background-color: #434B5C;\n",
              "      box-shadow: 0px 1px 3px 1px rgba(0, 0, 0, 0.15);\n",
              "      filter: drop-shadow(0px 1px 2px rgba(0, 0, 0, 0.3));\n",
              "      fill: #FFFFFF;\n",
              "    }\n",
              "  </style>\n",
              "\n",
              "      <script>\n",
              "        const buttonEl =\n",
              "          document.querySelector('#df-7594c75a-0a86-4d61-a0de-2a7b999d9306 button.colab-df-convert');\n",
              "        buttonEl.style.display =\n",
              "          google.colab.kernel.accessAllowed ? 'block' : 'none';\n",
              "\n",
              "        async function convertToInteractive(key) {\n",
              "          const element = document.querySelector('#df-7594c75a-0a86-4d61-a0de-2a7b999d9306');\n",
              "          const dataTable =\n",
              "            await google.colab.kernel.invokeFunction('convertToInteractive',\n",
              "                                                     [key], {});\n",
              "          if (!dataTable) return;\n",
              "\n",
              "          const docLinkHtml = 'Like what you see? Visit the ' +\n",
              "            '<a target=\"_blank\" href=https://colab.research.google.com/notebooks/data_table.ipynb>data table notebook</a>'\n",
              "            + ' to learn more about interactive tables.';\n",
              "          element.innerHTML = '';\n",
              "          dataTable['output_type'] = 'display_data';\n",
              "          await google.colab.output.renderOutput(dataTable, element);\n",
              "          const docLink = document.createElement('div');\n",
              "          docLink.innerHTML = docLinkHtml;\n",
              "          element.appendChild(docLink);\n",
              "        }\n",
              "      </script>\n",
              "    </div>\n",
              "  </div>\n",
              "  "
            ]
          },
          "metadata": {},
          "execution_count": 7
        }
      ]
    },
    {
      "cell_type": "code",
      "source": [
        "test_df.info()"
      ],
      "metadata": {
        "id": "5-h4uaemM_Tm",
        "colab": {
          "base_uri": "https://localhost:8080/"
        },
        "outputId": "38edf123-1d74-4edd-8ff5-823145341d9b"
      },
      "execution_count": null,
      "outputs": [
        {
          "output_type": "stream",
          "name": "stdout",
          "text": [
            "<class 'pandas.core.frame.DataFrame'>\n",
            "RangeIndex: 162573 entries, 0 to 162572\n",
            "Data columns (total 8 columns):\n",
            " #   Column       Non-Null Count   Dtype         \n",
            "---  ------       --------------   -----         \n",
            " 0   InvoiceNo    162573 non-null  object        \n",
            " 1   StockCode    162573 non-null  object        \n",
            " 2   Description  162082 non-null  object        \n",
            " 3   Quantity     162573 non-null  int64         \n",
            " 4   InvoiceDate  162573 non-null  datetime64[ns]\n",
            " 5   UnitPrice    162573 non-null  float64       \n",
            " 6   CustomerID   121753 non-null  float64       \n",
            " 7   Country      162573 non-null  object        \n",
            "dtypes: datetime64[ns](1), float64(2), int64(1), object(4)\n",
            "memory usage: 9.9+ MB\n"
          ]
        }
      ]
    },
    {
      "cell_type": "code",
      "source": [
        "test_df.shape"
      ],
      "metadata": {
        "id": "EkfpRCiMM_X0",
        "colab": {
          "base_uri": "https://localhost:8080/"
        },
        "outputId": "e66e296d-f17f-46c6-b344-32e25e4c2acb"
      },
      "execution_count": null,
      "outputs": [
        {
          "output_type": "execute_result",
          "data": {
            "text/plain": [
              "(162573, 8)"
            ]
          },
          "metadata": {},
          "execution_count": 9
        }
      ]
    },
    {
      "cell_type": "code",
      "source": [
        "#Lets merge the two datasets test Test and Train by using the technique called append\n",
        "retail=train_df.append(test_df)"
      ],
      "metadata": {
        "id": "bJOpatkmM_an",
        "colab": {
          "base_uri": "https://localhost:8080/"
        },
        "outputId": "623907d8-38b0-4b48-a8f3-e565a297f143"
      },
      "execution_count": null,
      "outputs": [
        {
          "output_type": "stream",
          "name": "stderr",
          "text": [
            "<ipython-input-10-dc39ad4fc878>:2: FutureWarning: The frame.append method is deprecated and will be removed from pandas in a future version. Use pandas.concat instead.\n",
            "  retail=train_df.append(test_df)\n"
          ]
        }
      ]
    },
    {
      "cell_type": "code",
      "source": [
        "retail.head()"
      ],
      "metadata": {
        "id": "mACrJaZzM_d0",
        "colab": {
          "base_uri": "https://localhost:8080/",
          "height": 206
        },
        "outputId": "1d7b17b7-dfa5-484b-c490-cb195e3104fa"
      },
      "execution_count": null,
      "outputs": [
        {
          "output_type": "execute_result",
          "data": {
            "text/plain": [
              "  InvoiceNo StockCode                         Description  Quantity  \\\n",
              "0    558904     22292    HANGING CHICK  YELLOW DECORATION         1   \n",
              "1    556072     20970  PINK FLORAL FELTCRAFT SHOULDER BAG         8   \n",
              "2    551739     21559   STRAWBERRY LUNCH BOX WITH CUTLERY         2   \n",
              "3    541658     21988        PACK OF 6 SKULL PAPER PLATES         1   \n",
              "4    538364    85099C      JUMBO  BAG BAROQUE BLACK WHITE        10   \n",
              "\n",
              "          InvoiceDate  UnitPrice  CustomerID         Country  \n",
              "0 2011-07-04 16:18:00       1.25         NaN  United Kingdom  \n",
              "1 2011-06-08 14:57:00       3.75     16126.0  United Kingdom  \n",
              "2 2011-05-04 10:58:00       2.55     18118.0  United Kingdom  \n",
              "3 2011-01-20 12:16:00       0.85     15529.0  United Kingdom  \n",
              "4 2010-12-10 17:26:00       1.95     14448.0  United Kingdom  "
            ],
            "text/html": [
              "\n",
              "  <div id=\"df-9139261a-6267-4caf-90b1-e206e8692373\">\n",
              "    <div class=\"colab-df-container\">\n",
              "      <div>\n",
              "<style scoped>\n",
              "    .dataframe tbody tr th:only-of-type {\n",
              "        vertical-align: middle;\n",
              "    }\n",
              "\n",
              "    .dataframe tbody tr th {\n",
              "        vertical-align: top;\n",
              "    }\n",
              "\n",
              "    .dataframe thead th {\n",
              "        text-align: right;\n",
              "    }\n",
              "</style>\n",
              "<table border=\"1\" class=\"dataframe\">\n",
              "  <thead>\n",
              "    <tr style=\"text-align: right;\">\n",
              "      <th></th>\n",
              "      <th>InvoiceNo</th>\n",
              "      <th>StockCode</th>\n",
              "      <th>Description</th>\n",
              "      <th>Quantity</th>\n",
              "      <th>InvoiceDate</th>\n",
              "      <th>UnitPrice</th>\n",
              "      <th>CustomerID</th>\n",
              "      <th>Country</th>\n",
              "    </tr>\n",
              "  </thead>\n",
              "  <tbody>\n",
              "    <tr>\n",
              "      <th>0</th>\n",
              "      <td>558904</td>\n",
              "      <td>22292</td>\n",
              "      <td>HANGING CHICK  YELLOW DECORATION</td>\n",
              "      <td>1</td>\n",
              "      <td>2011-07-04 16:18:00</td>\n",
              "      <td>1.25</td>\n",
              "      <td>NaN</td>\n",
              "      <td>United Kingdom</td>\n",
              "    </tr>\n",
              "    <tr>\n",
              "      <th>1</th>\n",
              "      <td>556072</td>\n",
              "      <td>20970</td>\n",
              "      <td>PINK FLORAL FELTCRAFT SHOULDER BAG</td>\n",
              "      <td>8</td>\n",
              "      <td>2011-06-08 14:57:00</td>\n",
              "      <td>3.75</td>\n",
              "      <td>16126.0</td>\n",
              "      <td>United Kingdom</td>\n",
              "    </tr>\n",
              "    <tr>\n",
              "      <th>2</th>\n",
              "      <td>551739</td>\n",
              "      <td>21559</td>\n",
              "      <td>STRAWBERRY LUNCH BOX WITH CUTLERY</td>\n",
              "      <td>2</td>\n",
              "      <td>2011-05-04 10:58:00</td>\n",
              "      <td>2.55</td>\n",
              "      <td>18118.0</td>\n",
              "      <td>United Kingdom</td>\n",
              "    </tr>\n",
              "    <tr>\n",
              "      <th>3</th>\n",
              "      <td>541658</td>\n",
              "      <td>21988</td>\n",
              "      <td>PACK OF 6 SKULL PAPER PLATES</td>\n",
              "      <td>1</td>\n",
              "      <td>2011-01-20 12:16:00</td>\n",
              "      <td>0.85</td>\n",
              "      <td>15529.0</td>\n",
              "      <td>United Kingdom</td>\n",
              "    </tr>\n",
              "    <tr>\n",
              "      <th>4</th>\n",
              "      <td>538364</td>\n",
              "      <td>85099C</td>\n",
              "      <td>JUMBO  BAG BAROQUE BLACK WHITE</td>\n",
              "      <td>10</td>\n",
              "      <td>2010-12-10 17:26:00</td>\n",
              "      <td>1.95</td>\n",
              "      <td>14448.0</td>\n",
              "      <td>United Kingdom</td>\n",
              "    </tr>\n",
              "  </tbody>\n",
              "</table>\n",
              "</div>\n",
              "      <button class=\"colab-df-convert\" onclick=\"convertToInteractive('df-9139261a-6267-4caf-90b1-e206e8692373')\"\n",
              "              title=\"Convert this dataframe to an interactive table.\"\n",
              "              style=\"display:none;\">\n",
              "        \n",
              "  <svg xmlns=\"http://www.w3.org/2000/svg\" height=\"24px\"viewBox=\"0 0 24 24\"\n",
              "       width=\"24px\">\n",
              "    <path d=\"M0 0h24v24H0V0z\" fill=\"none\"/>\n",
              "    <path d=\"M18.56 5.44l.94 2.06.94-2.06 2.06-.94-2.06-.94-.94-2.06-.94 2.06-2.06.94zm-11 1L8.5 8.5l.94-2.06 2.06-.94-2.06-.94L8.5 2.5l-.94 2.06-2.06.94zm10 10l.94 2.06.94-2.06 2.06-.94-2.06-.94-.94-2.06-.94 2.06-2.06.94z\"/><path d=\"M17.41 7.96l-1.37-1.37c-.4-.4-.92-.59-1.43-.59-.52 0-1.04.2-1.43.59L10.3 9.45l-7.72 7.72c-.78.78-.78 2.05 0 2.83L4 21.41c.39.39.9.59 1.41.59.51 0 1.02-.2 1.41-.59l7.78-7.78 2.81-2.81c.8-.78.8-2.07 0-2.86zM5.41 20L4 18.59l7.72-7.72 1.47 1.35L5.41 20z\"/>\n",
              "  </svg>\n",
              "      </button>\n",
              "      \n",
              "  <style>\n",
              "    .colab-df-container {\n",
              "      display:flex;\n",
              "      flex-wrap:wrap;\n",
              "      gap: 12px;\n",
              "    }\n",
              "\n",
              "    .colab-df-convert {\n",
              "      background-color: #E8F0FE;\n",
              "      border: none;\n",
              "      border-radius: 50%;\n",
              "      cursor: pointer;\n",
              "      display: none;\n",
              "      fill: #1967D2;\n",
              "      height: 32px;\n",
              "      padding: 0 0 0 0;\n",
              "      width: 32px;\n",
              "    }\n",
              "\n",
              "    .colab-df-convert:hover {\n",
              "      background-color: #E2EBFA;\n",
              "      box-shadow: 0px 1px 2px rgba(60, 64, 67, 0.3), 0px 1px 3px 1px rgba(60, 64, 67, 0.15);\n",
              "      fill: #174EA6;\n",
              "    }\n",
              "\n",
              "    [theme=dark] .colab-df-convert {\n",
              "      background-color: #3B4455;\n",
              "      fill: #D2E3FC;\n",
              "    }\n",
              "\n",
              "    [theme=dark] .colab-df-convert:hover {\n",
              "      background-color: #434B5C;\n",
              "      box-shadow: 0px 1px 3px 1px rgba(0, 0, 0, 0.15);\n",
              "      filter: drop-shadow(0px 1px 2px rgba(0, 0, 0, 0.3));\n",
              "      fill: #FFFFFF;\n",
              "    }\n",
              "  </style>\n",
              "\n",
              "      <script>\n",
              "        const buttonEl =\n",
              "          document.querySelector('#df-9139261a-6267-4caf-90b1-e206e8692373 button.colab-df-convert');\n",
              "        buttonEl.style.display =\n",
              "          google.colab.kernel.accessAllowed ? 'block' : 'none';\n",
              "\n",
              "        async function convertToInteractive(key) {\n",
              "          const element = document.querySelector('#df-9139261a-6267-4caf-90b1-e206e8692373');\n",
              "          const dataTable =\n",
              "            await google.colab.kernel.invokeFunction('convertToInteractive',\n",
              "                                                     [key], {});\n",
              "          if (!dataTable) return;\n",
              "\n",
              "          const docLinkHtml = 'Like what you see? Visit the ' +\n",
              "            '<a target=\"_blank\" href=https://colab.research.google.com/notebooks/data_table.ipynb>data table notebook</a>'\n",
              "            + ' to learn more about interactive tables.';\n",
              "          element.innerHTML = '';\n",
              "          dataTable['output_type'] = 'display_data';\n",
              "          await google.colab.output.renderOutput(dataTable, element);\n",
              "          const docLink = document.createElement('div');\n",
              "          docLink.innerHTML = docLinkHtml;\n",
              "          element.appendChild(docLink);\n",
              "        }\n",
              "      </script>\n",
              "    </div>\n",
              "  </div>\n",
              "  "
            ]
          },
          "metadata": {},
          "execution_count": 11
        }
      ]
    },
    {
      "cell_type": "code",
      "source": [
        "retail.tail()"
      ],
      "metadata": {
        "id": "hEo3ddvdRajZ",
        "colab": {
          "base_uri": "https://localhost:8080/",
          "height": 206
        },
        "outputId": "8fcaad0e-3f13-46a3-8b47-a004423f79e1"
      },
      "execution_count": null,
      "outputs": [
        {
          "output_type": "execute_result",
          "data": {
            "text/plain": [
              "       InvoiceNo StockCode                       Description  Quantity  \\\n",
              "162568    574102     22866     HAND WARMER SCOTTY DOG DESIGN        24   \n",
              "162569    545226     22919                  HERB MARKER MINT        12   \n",
              "162570    573160     22077            6 RIBBONS RUSTIC CHARM        12   \n",
              "162571    552321     23204       CHARLOTTE BAG APPLES DESIGN        10   \n",
              "162572    573359     21983  PACK OF 12 BLUE PAISLEY TISSUES          4   \n",
              "\n",
              "               InvoiceDate  UnitPrice  CustomerID         Country  \n",
              "162568 2011-11-03 10:27:00       2.10     16128.0  United Kingdom  \n",
              "162569 2011-03-01 09:33:00       0.65     12428.0         Finland  \n",
              "162570 2011-10-28 08:58:00       1.95     14359.0  United Kingdom  \n",
              "162571 2011-05-09 09:15:00       0.85     17049.0  United Kingdom  \n",
              "162572 2011-10-30 12:48:00       0.39     14178.0  United Kingdom  "
            ],
            "text/html": [
              "\n",
              "  <div id=\"df-5933a7b7-4070-4115-ad36-490580644308\">\n",
              "    <div class=\"colab-df-container\">\n",
              "      <div>\n",
              "<style scoped>\n",
              "    .dataframe tbody tr th:only-of-type {\n",
              "        vertical-align: middle;\n",
              "    }\n",
              "\n",
              "    .dataframe tbody tr th {\n",
              "        vertical-align: top;\n",
              "    }\n",
              "\n",
              "    .dataframe thead th {\n",
              "        text-align: right;\n",
              "    }\n",
              "</style>\n",
              "<table border=\"1\" class=\"dataframe\">\n",
              "  <thead>\n",
              "    <tr style=\"text-align: right;\">\n",
              "      <th></th>\n",
              "      <th>InvoiceNo</th>\n",
              "      <th>StockCode</th>\n",
              "      <th>Description</th>\n",
              "      <th>Quantity</th>\n",
              "      <th>InvoiceDate</th>\n",
              "      <th>UnitPrice</th>\n",
              "      <th>CustomerID</th>\n",
              "      <th>Country</th>\n",
              "    </tr>\n",
              "  </thead>\n",
              "  <tbody>\n",
              "    <tr>\n",
              "      <th>162568</th>\n",
              "      <td>574102</td>\n",
              "      <td>22866</td>\n",
              "      <td>HAND WARMER SCOTTY DOG DESIGN</td>\n",
              "      <td>24</td>\n",
              "      <td>2011-11-03 10:27:00</td>\n",
              "      <td>2.10</td>\n",
              "      <td>16128.0</td>\n",
              "      <td>United Kingdom</td>\n",
              "    </tr>\n",
              "    <tr>\n",
              "      <th>162569</th>\n",
              "      <td>545226</td>\n",
              "      <td>22919</td>\n",
              "      <td>HERB MARKER MINT</td>\n",
              "      <td>12</td>\n",
              "      <td>2011-03-01 09:33:00</td>\n",
              "      <td>0.65</td>\n",
              "      <td>12428.0</td>\n",
              "      <td>Finland</td>\n",
              "    </tr>\n",
              "    <tr>\n",
              "      <th>162570</th>\n",
              "      <td>573160</td>\n",
              "      <td>22077</td>\n",
              "      <td>6 RIBBONS RUSTIC CHARM</td>\n",
              "      <td>12</td>\n",
              "      <td>2011-10-28 08:58:00</td>\n",
              "      <td>1.95</td>\n",
              "      <td>14359.0</td>\n",
              "      <td>United Kingdom</td>\n",
              "    </tr>\n",
              "    <tr>\n",
              "      <th>162571</th>\n",
              "      <td>552321</td>\n",
              "      <td>23204</td>\n",
              "      <td>CHARLOTTE BAG APPLES DESIGN</td>\n",
              "      <td>10</td>\n",
              "      <td>2011-05-09 09:15:00</td>\n",
              "      <td>0.85</td>\n",
              "      <td>17049.0</td>\n",
              "      <td>United Kingdom</td>\n",
              "    </tr>\n",
              "    <tr>\n",
              "      <th>162572</th>\n",
              "      <td>573359</td>\n",
              "      <td>21983</td>\n",
              "      <td>PACK OF 12 BLUE PAISLEY TISSUES</td>\n",
              "      <td>4</td>\n",
              "      <td>2011-10-30 12:48:00</td>\n",
              "      <td>0.39</td>\n",
              "      <td>14178.0</td>\n",
              "      <td>United Kingdom</td>\n",
              "    </tr>\n",
              "  </tbody>\n",
              "</table>\n",
              "</div>\n",
              "      <button class=\"colab-df-convert\" onclick=\"convertToInteractive('df-5933a7b7-4070-4115-ad36-490580644308')\"\n",
              "              title=\"Convert this dataframe to an interactive table.\"\n",
              "              style=\"display:none;\">\n",
              "        \n",
              "  <svg xmlns=\"http://www.w3.org/2000/svg\" height=\"24px\"viewBox=\"0 0 24 24\"\n",
              "       width=\"24px\">\n",
              "    <path d=\"M0 0h24v24H0V0z\" fill=\"none\"/>\n",
              "    <path d=\"M18.56 5.44l.94 2.06.94-2.06 2.06-.94-2.06-.94-.94-2.06-.94 2.06-2.06.94zm-11 1L8.5 8.5l.94-2.06 2.06-.94-2.06-.94L8.5 2.5l-.94 2.06-2.06.94zm10 10l.94 2.06.94-2.06 2.06-.94-2.06-.94-.94-2.06-.94 2.06-2.06.94z\"/><path d=\"M17.41 7.96l-1.37-1.37c-.4-.4-.92-.59-1.43-.59-.52 0-1.04.2-1.43.59L10.3 9.45l-7.72 7.72c-.78.78-.78 2.05 0 2.83L4 21.41c.39.39.9.59 1.41.59.51 0 1.02-.2 1.41-.59l7.78-7.78 2.81-2.81c.8-.78.8-2.07 0-2.86zM5.41 20L4 18.59l7.72-7.72 1.47 1.35L5.41 20z\"/>\n",
              "  </svg>\n",
              "      </button>\n",
              "      \n",
              "  <style>\n",
              "    .colab-df-container {\n",
              "      display:flex;\n",
              "      flex-wrap:wrap;\n",
              "      gap: 12px;\n",
              "    }\n",
              "\n",
              "    .colab-df-convert {\n",
              "      background-color: #E8F0FE;\n",
              "      border: none;\n",
              "      border-radius: 50%;\n",
              "      cursor: pointer;\n",
              "      display: none;\n",
              "      fill: #1967D2;\n",
              "      height: 32px;\n",
              "      padding: 0 0 0 0;\n",
              "      width: 32px;\n",
              "    }\n",
              "\n",
              "    .colab-df-convert:hover {\n",
              "      background-color: #E2EBFA;\n",
              "      box-shadow: 0px 1px 2px rgba(60, 64, 67, 0.3), 0px 1px 3px 1px rgba(60, 64, 67, 0.15);\n",
              "      fill: #174EA6;\n",
              "    }\n",
              "\n",
              "    [theme=dark] .colab-df-convert {\n",
              "      background-color: #3B4455;\n",
              "      fill: #D2E3FC;\n",
              "    }\n",
              "\n",
              "    [theme=dark] .colab-df-convert:hover {\n",
              "      background-color: #434B5C;\n",
              "      box-shadow: 0px 1px 3px 1px rgba(0, 0, 0, 0.15);\n",
              "      filter: drop-shadow(0px 1px 2px rgba(0, 0, 0, 0.3));\n",
              "      fill: #FFFFFF;\n",
              "    }\n",
              "  </style>\n",
              "\n",
              "      <script>\n",
              "        const buttonEl =\n",
              "          document.querySelector('#df-5933a7b7-4070-4115-ad36-490580644308 button.colab-df-convert');\n",
              "        buttonEl.style.display =\n",
              "          google.colab.kernel.accessAllowed ? 'block' : 'none';\n",
              "\n",
              "        async function convertToInteractive(key) {\n",
              "          const element = document.querySelector('#df-5933a7b7-4070-4115-ad36-490580644308');\n",
              "          const dataTable =\n",
              "            await google.colab.kernel.invokeFunction('convertToInteractive',\n",
              "                                                     [key], {});\n",
              "          if (!dataTable) return;\n",
              "\n",
              "          const docLinkHtml = 'Like what you see? Visit the ' +\n",
              "            '<a target=\"_blank\" href=https://colab.research.google.com/notebooks/data_table.ipynb>data table notebook</a>'\n",
              "            + ' to learn more about interactive tables.';\n",
              "          element.innerHTML = '';\n",
              "          dataTable['output_type'] = 'display_data';\n",
              "          await google.colab.output.renderOutput(dataTable, element);\n",
              "          const docLink = document.createElement('div');\n",
              "          docLink.innerHTML = docLinkHtml;\n",
              "          element.appendChild(docLink);\n",
              "        }\n",
              "      </script>\n",
              "    </div>\n",
              "  </div>\n",
              "  "
            ]
          },
          "metadata": {},
          "execution_count": 12
        }
      ]
    },
    {
      "cell_type": "code",
      "source": [
        "retail.shape"
      ],
      "metadata": {
        "id": "PiPFi7HYM_go",
        "colab": {
          "base_uri": "https://localhost:8080/"
        },
        "outputId": "a0a01213-f662-429d-8f5d-85bd060e3b04"
      },
      "execution_count": null,
      "outputs": [
        {
          "output_type": "execute_result",
          "data": {
            "text/plain": [
              "(541909, 8)"
            ]
          },
          "metadata": {},
          "execution_count": 13
        }
      ]
    },
    {
      "cell_type": "code",
      "source": [
        "retail.info()"
      ],
      "metadata": {
        "id": "G1BKkyAiM_jI",
        "colab": {
          "base_uri": "https://localhost:8080/"
        },
        "outputId": "20c3f361-5dc3-44a3-cc45-be8019f1a970"
      },
      "execution_count": null,
      "outputs": [
        {
          "output_type": "stream",
          "name": "stdout",
          "text": [
            "<class 'pandas.core.frame.DataFrame'>\n",
            "Int64Index: 541909 entries, 0 to 162572\n",
            "Data columns (total 8 columns):\n",
            " #   Column       Non-Null Count   Dtype         \n",
            "---  ------       --------------   -----         \n",
            " 0   InvoiceNo    541909 non-null  object        \n",
            " 1   StockCode    541909 non-null  object        \n",
            " 2   Description  540455 non-null  object        \n",
            " 3   Quantity     541909 non-null  int64         \n",
            " 4   InvoiceDate  541909 non-null  datetime64[ns]\n",
            " 5   UnitPrice    541909 non-null  float64       \n",
            " 6   CustomerID   406829 non-null  float64       \n",
            " 7   Country      541909 non-null  object        \n",
            "dtypes: datetime64[ns](1), float64(2), int64(1), object(4)\n",
            "memory usage: 37.2+ MB\n"
          ]
        }
      ]
    },
    {
      "cell_type": "markdown",
      "source": [
        "Project Task 1\n",
        "\n",
        "Data Cleaning:\n",
        "\n",
        "1. Perform a preliminary data inspection and data cleaning."
      ],
      "metadata": {
        "id": "_RElbWlNSAj-"
      }
    },
    {
      "cell_type": "markdown",
      "source": [
        "a. Check for missing data and formulate an apt strategy to treat them."
      ],
      "metadata": {
        "id": "XNQOgQAGSP8p"
      }
    },
    {
      "cell_type": "code",
      "source": [
        "retail.isnull().sum()"
      ],
      "metadata": {
        "id": "7O4q_SsIM_m6",
        "colab": {
          "base_uri": "https://localhost:8080/"
        },
        "outputId": "de5d1051-bd7e-4906-c83f-59da9888890e"
      },
      "execution_count": null,
      "outputs": [
        {
          "output_type": "execute_result",
          "data": {
            "text/plain": [
              "InvoiceNo           0\n",
              "StockCode           0\n",
              "Description      1454\n",
              "Quantity            0\n",
              "InvoiceDate         0\n",
              "UnitPrice           0\n",
              "CustomerID     135080\n",
              "Country             0\n",
              "dtype: int64"
            ]
          },
          "metadata": {},
          "execution_count": 15
        }
      ]
    },
    {
      "cell_type": "code",
      "source": [
        "# Replace the missing values or the null values by using fillna() function in the column called Description with a default value\n",
        "default_value=\"No description available\" \n",
        "retail[\"Description\"].fillna(default_value,inplace=True)"
      ],
      "metadata": {
        "id": "8eRxK2DuM_qp"
      },
      "execution_count": null,
      "outputs": []
    },
    {
      "cell_type": "code",
      "source": [
        "retail.isnull().sum()"
      ],
      "metadata": {
        "id": "5j6UeosGM_t3",
        "colab": {
          "base_uri": "https://localhost:8080/"
        },
        "outputId": "caea6ad2-9484-4579-b90d-45609c924dee"
      },
      "execution_count": null,
      "outputs": [
        {
          "output_type": "execute_result",
          "data": {
            "text/plain": [
              "InvoiceNo           0\n",
              "StockCode           0\n",
              "Description         0\n",
              "Quantity            0\n",
              "InvoiceDate         0\n",
              "UnitPrice           0\n",
              "CustomerID     135080\n",
              "Country             0\n",
              "dtype: int64"
            ]
          },
          "metadata": {},
          "execution_count": 17
        }
      ]
    },
    {
      "cell_type": "code",
      "source": [
        "# calculate the mean value of the \"CustomerID\" column\n",
        "mean_customer_id = retail['CustomerID'].mean()\n",
        "\n",
        "# fill any missing values in the \"CustomerID\" column with the mean value\n",
        "retail['CustomerID'] = retail['CustomerID'].fillna(mean_customer_id)"
      ],
      "metadata": {
        "id": "3eTdm657M_w6"
      },
      "execution_count": null,
      "outputs": []
    },
    {
      "cell_type": "code",
      "source": [
        "retail.info()"
      ],
      "metadata": {
        "id": "yItdBUVVM_0B",
        "colab": {
          "base_uri": "https://localhost:8080/"
        },
        "outputId": "e17fba77-3017-4425-e5fb-132fe04bbe36"
      },
      "execution_count": null,
      "outputs": [
        {
          "output_type": "stream",
          "name": "stdout",
          "text": [
            "<class 'pandas.core.frame.DataFrame'>\n",
            "Int64Index: 541909 entries, 0 to 162572\n",
            "Data columns (total 8 columns):\n",
            " #   Column       Non-Null Count   Dtype         \n",
            "---  ------       --------------   -----         \n",
            " 0   InvoiceNo    541909 non-null  object        \n",
            " 1   StockCode    541909 non-null  object        \n",
            " 2   Description  541909 non-null  object        \n",
            " 3   Quantity     541909 non-null  int64         \n",
            " 4   InvoiceDate  541909 non-null  datetime64[ns]\n",
            " 5   UnitPrice    541909 non-null  float64       \n",
            " 6   CustomerID   541909 non-null  float64       \n",
            " 7   Country      541909 non-null  object        \n",
            "dtypes: datetime64[ns](1), float64(2), int64(1), object(4)\n",
            "memory usage: 37.2+ MB\n"
          ]
        }
      ]
    },
    {
      "cell_type": "code",
      "source": [
        "retail.isnull().sum()"
      ],
      "metadata": {
        "id": "1zRW1L1fM_3F",
        "colab": {
          "base_uri": "https://localhost:8080/"
        },
        "outputId": "b8919198-759d-41d2-c55c-a0f386428410"
      },
      "execution_count": null,
      "outputs": [
        {
          "output_type": "execute_result",
          "data": {
            "text/plain": [
              "InvoiceNo      0\n",
              "StockCode      0\n",
              "Description    0\n",
              "Quantity       0\n",
              "InvoiceDate    0\n",
              "UnitPrice      0\n",
              "CustomerID     0\n",
              "Country        0\n",
              "dtype: int64"
            ]
          },
          "metadata": {},
          "execution_count": 20
        }
      ]
    },
    {
      "cell_type": "markdown",
      "source": [
        "b. Remove duplicate data records."
      ],
      "metadata": {
        "id": "a74ttrBvkv_A"
      }
    },
    {
      "cell_type": "code",
      "source": [
        "# First checking out the if any duplicate records is available or not.\n",
        "duplicates=retail.duplicated(subset=[\"InvoiceNo\",\"StockCode\",\"Description\",\"Quantity\",\"InvoiceDate\",\"UnitPrice\",\"Country\"])\n",
        "duplicate_count=duplicates.value_counts()\n",
        "print(duplicate_count)"
      ],
      "metadata": {
        "id": "kkompaXGM_6K",
        "colab": {
          "base_uri": "https://localhost:8080/"
        },
        "outputId": "52713347-0c84-4433-a58b-b2b0596f1db1"
      },
      "execution_count": null,
      "outputs": [
        {
          "output_type": "stream",
          "name": "stdout",
          "text": [
            "False    536641\n",
            "True       5268\n",
            "dtype: int64\n"
          ]
        }
      ]
    },
    {
      "cell_type": "code",
      "source": [
        "#Remove the duplicates record from the datasets, as there are 5268 duplicate records in the dadasets\n",
        "retail.drop_duplicates(inplace=True)\n",
        "print(duplicate_count)"
      ],
      "metadata": {
        "id": "q6gbnRExqTHJ",
        "colab": {
          "base_uri": "https://localhost:8080/"
        },
        "outputId": "f70370bf-5671-4355-b1fb-d49c81f03ea4"
      },
      "execution_count": null,
      "outputs": [
        {
          "output_type": "stream",
          "name": "stdout",
          "text": [
            "False    536641\n",
            "True       5268\n",
            "dtype: int64\n"
          ]
        }
      ]
    },
    {
      "cell_type": "markdown",
      "source": [
        "As you can see now the duplicates have been removed around 5268 qty from the data sets"
      ],
      "metadata": {
        "id": "mOLDuXqom8V8"
      }
    },
    {
      "cell_type": "code",
      "source": [
        "# Changing the datatype of column called InvoiceNo from object to string\n",
        "retail['InvoiceNo'] = retail['InvoiceNo'].astype(str)"
      ],
      "metadata": {
        "id": "o2wnh33M8Cs6"
      },
      "execution_count": null,
      "outputs": []
    },
    {
      "cell_type": "code",
      "source": [
        "# Changing the datatype of column called InvoiceNo from object to string\n",
        "retail['StockCode'] = retail['StockCode'].astype(str)"
      ],
      "metadata": {
        "id": "4CG7kIDG8nju"
      },
      "execution_count": null,
      "outputs": []
    },
    {
      "cell_type": "code",
      "source": [
        "# Converting the string(Object) data into the numerical data by using the Encoding techniques\n",
        "from sklearn.preprocessing import LabelEncoder\n",
        "#Creating the label encoder object\n",
        "le=LabelEncoder()\n",
        "#Now fitting and transforming the InvoiceNo column\n",
        "retail[\"InvoiceNo\"]=le.fit_transform(retail[\"InvoiceNo\"])\n",
        "#Now fitting and transforming the StockCode column\n",
        "retail[\"StockCode\"]=le.fit_transform(retail[\"StockCode\"])"
      ],
      "metadata": {
        "id": "1wzMFRcFtQMX"
      },
      "execution_count": null,
      "outputs": []
    },
    {
      "cell_type": "code",
      "source": [
        "#Change the datatype object to string type of the column Description\n",
        "retail[\"Description\"] = retail[\"Description\"].astype(str)"
      ],
      "metadata": {
        "id": "I9Mep_QAtk42"
      },
      "execution_count": null,
      "outputs": []
    },
    {
      "cell_type": "code",
      "source": [
        "# By importing the appropriate librarie such as CounterVectorizer basically you can now convert text to integer \n",
        "from sklearn.feature_extraction.text import CountVectorizer\n",
        "\n",
        "# create an instance of the CountVectorizer class\n",
        "vectorizer = CountVectorizer()\n",
        "\n",
        "# fit the vectorizer to the Description column\n",
        "vectorizer.fit(retail['Description'])\n",
        "\n",
        "# transform the Description column into integer vectors\n",
        "X = vectorizer.transform(retail['Description'])\n",
        "\n",
        "# print the resulting integer vectors\n",
        "print(X.toarray())"
      ],
      "metadata": {
        "id": "J_u6oGgjOapt",
        "colab": {
          "base_uri": "https://localhost:8080/"
        },
        "outputId": "e1eb2c62-0f51-4a57-d795-434ff2f55173"
      },
      "execution_count": null,
      "outputs": [
        {
          "output_type": "stream",
          "name": "stdout",
          "text": [
            "[[0 0 0 ... 0 0 0]\n",
            " [0 0 0 ... 0 0 0]\n",
            " [0 0 0 ... 0 0 0]\n",
            " ...\n",
            " [0 0 0 ... 0 0 0]\n",
            " [0 0 0 ... 0 0 0]\n",
            " [0 0 0 ... 0 0 0]]\n"
          ]
        }
      ]
    },
    {
      "cell_type": "code",
      "source": [
        "from sklearn.decomposition import LatentDirichletAllocation\n",
        "\n",
        "# create an instance of the LatentDirichletAllocation class with 10 topics\n",
        "lda = LatentDirichletAllocation(n_components=10, random_state=42)\n",
        "\n",
        "# fit the LDA model to the integer vectors X\n",
        "lda.fit(X)\n",
        "\n",
        "# transform X into a lower-dimensional representation using the LDA model\n",
        "X_lda = lda.transform(X)\n",
        "\n",
        "# print the resulting shape of X_lda\n",
        "print(X_lda.shape)"
      ],
      "metadata": {
        "colab": {
          "base_uri": "https://localhost:8080/"
        },
        "id": "mzz6W8i6B_An",
        "outputId": "439cbfe8-be8f-4094-f78a-46aef8e66bff"
      },
      "execution_count": null,
      "outputs": [
        {
          "output_type": "stream",
          "name": "stdout",
          "text": [
            "(536641, 10)\n"
          ]
        }
      ]
    },
    {
      "cell_type": "code",
      "source": [
        "retail.info()"
      ],
      "metadata": {
        "id": "oyWWXuDNObCA",
        "colab": {
          "base_uri": "https://localhost:8080/"
        },
        "outputId": "4da361a3-acf4-4d94-93fd-481b3cd7bd8c"
      },
      "execution_count": null,
      "outputs": [
        {
          "output_type": "stream",
          "name": "stdout",
          "text": [
            "<class 'pandas.core.frame.DataFrame'>\n",
            "Int64Index: 536641 entries, 0 to 162572\n",
            "Data columns (total 8 columns):\n",
            " #   Column       Non-Null Count   Dtype         \n",
            "---  ------       --------------   -----         \n",
            " 0   InvoiceNo    536641 non-null  int64         \n",
            " 1   StockCode    536641 non-null  int64         \n",
            " 2   Description  536641 non-null  object        \n",
            " 3   Quantity     536641 non-null  int64         \n",
            " 4   InvoiceDate  536641 non-null  datetime64[ns]\n",
            " 5   UnitPrice    536641 non-null  float64       \n",
            " 6   CustomerID   536641 non-null  float64       \n",
            " 7   Country      536641 non-null  object        \n",
            "dtypes: datetime64[ns](1), float64(2), int64(3), object(2)\n",
            "memory usage: 36.8+ MB\n"
          ]
        }
      ]
    },
    {
      "cell_type": "code",
      "source": [
        "#By performing the encoding technique converting the object datatype to integer datatype\n",
        "le=LabelEncoder()\n",
        "retail['Country']=le.fit_transform(retail[\"Country\"])"
      ],
      "metadata": {
        "id": "Fmpj-Gzq9AFX"
      },
      "execution_count": null,
      "outputs": []
    },
    {
      "cell_type": "code",
      "source": [
        "#Further we are breaking down the InvoiceDate column to sub new columns\n",
        "retail[\"Year\"]=retail[\"InvoiceDate\"].dt.year.astype(int)\n",
        "retail[\"Month\"]=retail[\"InvoiceDate\"].dt.month.astype(int)\n",
        "retail[\"Day\"]=retail[\"InvoiceDate\"].dt.day.astype(int)\n",
        "retail[\"Hour\"]=retail[\"InvoiceDate\"].dt.hour.astype(int)\n",
        "retail[\"Minute\"]=retail[\"InvoiceDate\"].dt.minute.astype(int)\n",
        "retail[\"Second\"]=retail[\"InvoiceDate\"].dt.second.astype(int)"
      ],
      "metadata": {
        "id": "_4tPSPbF9AQL"
      },
      "execution_count": null,
      "outputs": []
    },
    {
      "cell_type": "code",
      "source": [
        "#Drop the column name called InvoiceDate, as it has broken down into sub columns of integer data type\n",
        "#retail.drop(\"InvoiceDate\", axis=1, inplace=True)"
      ],
      "metadata": {
        "id": "gAxUJZnu9ASv"
      },
      "execution_count": null,
      "outputs": []
    },
    {
      "cell_type": "code",
      "source": [
        "retail.info()"
      ],
      "metadata": {
        "colab": {
          "base_uri": "https://localhost:8080/"
        },
        "id": "7Ier4yWd9AVu",
        "outputId": "3556ac32-f009-4c5e-a6d4-36d7ceb13eb1"
      },
      "execution_count": null,
      "outputs": [
        {
          "output_type": "stream",
          "name": "stdout",
          "text": [
            "<class 'pandas.core.frame.DataFrame'>\n",
            "Int64Index: 536641 entries, 0 to 162572\n",
            "Data columns (total 14 columns):\n",
            " #   Column       Non-Null Count   Dtype         \n",
            "---  ------       --------------   -----         \n",
            " 0   InvoiceNo    536641 non-null  int64         \n",
            " 1   StockCode    536641 non-null  int64         \n",
            " 2   Description  536641 non-null  object        \n",
            " 3   Quantity     536641 non-null  int64         \n",
            " 4   InvoiceDate  536641 non-null  datetime64[ns]\n",
            " 5   UnitPrice    536641 non-null  float64       \n",
            " 6   CustomerID   536641 non-null  float64       \n",
            " 7   Country      536641 non-null  int64         \n",
            " 8   Year         536641 non-null  int64         \n",
            " 9   Month        536641 non-null  int64         \n",
            " 10  Day          536641 non-null  int64         \n",
            " 11  Hour         536641 non-null  int64         \n",
            " 12  Minute       536641 non-null  int64         \n",
            " 13  Second       536641 non-null  int64         \n",
            "dtypes: datetime64[ns](1), float64(2), int64(10), object(1)\n",
            "memory usage: 61.4+ MB\n"
          ]
        }
      ]
    },
    {
      "cell_type": "code",
      "source": [
        "#Creating a duplicate copy of data sets\n",
        "retail_1=retail.copy()"
      ],
      "metadata": {
        "id": "8pC2RMO39AZA"
      },
      "execution_count": null,
      "outputs": []
    },
    {
      "cell_type": "code",
      "source": [
        "retail_1.info()"
      ],
      "metadata": {
        "colab": {
          "base_uri": "https://localhost:8080/"
        },
        "id": "X1OWoYlb9AcG",
        "outputId": "19dffa78-bff5-4629-9067-f8b82dfbbab7"
      },
      "execution_count": null,
      "outputs": [
        {
          "output_type": "stream",
          "name": "stdout",
          "text": [
            "<class 'pandas.core.frame.DataFrame'>\n",
            "Int64Index: 536641 entries, 0 to 162572\n",
            "Data columns (total 14 columns):\n",
            " #   Column       Non-Null Count   Dtype         \n",
            "---  ------       --------------   -----         \n",
            " 0   InvoiceNo    536641 non-null  int64         \n",
            " 1   StockCode    536641 non-null  int64         \n",
            " 2   Description  536641 non-null  object        \n",
            " 3   Quantity     536641 non-null  int64         \n",
            " 4   InvoiceDate  536641 non-null  datetime64[ns]\n",
            " 5   UnitPrice    536641 non-null  float64       \n",
            " 6   CustomerID   536641 non-null  float64       \n",
            " 7   Country      536641 non-null  int64         \n",
            " 8   Year         536641 non-null  int64         \n",
            " 9   Month        536641 non-null  int64         \n",
            " 10  Day          536641 non-null  int64         \n",
            " 11  Hour         536641 non-null  int64         \n",
            " 12  Minute       536641 non-null  int64         \n",
            " 13  Second       536641 non-null  int64         \n",
            "dtypes: datetime64[ns](1), float64(2), int64(10), object(1)\n",
            "memory usage: 61.4+ MB\n"
          ]
        }
      ]
    },
    {
      "cell_type": "code",
      "source": [
        "#Dropping the unwanted column from the data sets\n",
        "retail_1=retail_1.drop(\"Description\",axis=1)"
      ],
      "metadata": {
        "id": "ie3RaA8b5TVy"
      },
      "execution_count": null,
      "outputs": []
    },
    {
      "cell_type": "markdown",
      "source": [
        "c. Perform descriptive analytics on the given data."
      ],
      "metadata": {
        "id": "4KGKa8456Mqo"
      }
    },
    {
      "cell_type": "code",
      "source": [
        "#Shows the summary statistics for numerical columns\n",
        "retail_1.describe()"
      ],
      "metadata": {
        "colab": {
          "base_uri": "https://localhost:8080/",
          "height": 364
        },
        "id": "PadPfdvn5TeX",
        "outputId": "69127458-e8fc-4d8d-a067-df91c34d28f8"
      },
      "execution_count": null,
      "outputs": [
        {
          "output_type": "execute_result",
          "data": {
            "text/plain": [
              "           InvoiceNo      StockCode       Quantity      UnitPrice  \\\n",
              "count  536641.000000  536641.000000  536641.000000  536641.000000   \n",
              "mean    11637.452703    1651.007717       9.620029       4.632656   \n",
              "std      6726.069868     933.311643     219.130156      97.233118   \n",
              "min         0.000000       0.000000  -80995.000000  -11062.060000   \n",
              "25%      5547.000000     966.000000       1.000000       1.250000   \n",
              "50%     11945.000000    1563.000000       3.000000       2.080000   \n",
              "75%     17462.000000    2175.000000      10.000000       4.130000   \n",
              "max     25899.000000    4069.000000   80995.000000   38970.000000   \n",
              "\n",
              "          CustomerID        Country           Year          Month  \\\n",
              "count  536641.000000  536641.000000  536641.000000  536641.000000   \n",
              "mean    15282.803924      34.245781    2010.921771       7.544820   \n",
              "std      1482.757424       6.246012       0.268532       3.508696   \n",
              "min     12346.000000       0.000000    2010.000000       1.000000   \n",
              "25%     14367.000000      36.000000    2011.000000       5.000000   \n",
              "50%     15287.690570      36.000000    2011.000000       8.000000   \n",
              "75%     16241.000000      36.000000    2011.000000      11.000000   \n",
              "max     18287.000000      37.000000    2011.000000      12.000000   \n",
              "\n",
              "                 Day           Hour         Minute    Second  \n",
              "count  536641.000000  536641.000000  536641.000000  536641.0  \n",
              "mean       15.024640      13.077154      30.006584       0.0  \n",
              "std         8.663351       2.447505      16.969535       0.0  \n",
              "min         1.000000       6.000000       0.000000       0.0  \n",
              "25%         7.000000      11.000000      16.000000       0.0  \n",
              "50%        15.000000      13.000000      30.000000       0.0  \n",
              "75%        22.000000      15.000000      44.000000       0.0  \n",
              "max        31.000000      20.000000      59.000000       0.0  "
            ],
            "text/html": [
              "\n",
              "  <div id=\"df-0f5f13fb-2dee-4673-9c29-45ef660973af\">\n",
              "    <div class=\"colab-df-container\">\n",
              "      <div>\n",
              "<style scoped>\n",
              "    .dataframe tbody tr th:only-of-type {\n",
              "        vertical-align: middle;\n",
              "    }\n",
              "\n",
              "    .dataframe tbody tr th {\n",
              "        vertical-align: top;\n",
              "    }\n",
              "\n",
              "    .dataframe thead th {\n",
              "        text-align: right;\n",
              "    }\n",
              "</style>\n",
              "<table border=\"1\" class=\"dataframe\">\n",
              "  <thead>\n",
              "    <tr style=\"text-align: right;\">\n",
              "      <th></th>\n",
              "      <th>InvoiceNo</th>\n",
              "      <th>StockCode</th>\n",
              "      <th>Quantity</th>\n",
              "      <th>UnitPrice</th>\n",
              "      <th>CustomerID</th>\n",
              "      <th>Country</th>\n",
              "      <th>Year</th>\n",
              "      <th>Month</th>\n",
              "      <th>Day</th>\n",
              "      <th>Hour</th>\n",
              "      <th>Minute</th>\n",
              "      <th>Second</th>\n",
              "    </tr>\n",
              "  </thead>\n",
              "  <tbody>\n",
              "    <tr>\n",
              "      <th>count</th>\n",
              "      <td>536641.000000</td>\n",
              "      <td>536641.000000</td>\n",
              "      <td>536641.000000</td>\n",
              "      <td>536641.000000</td>\n",
              "      <td>536641.000000</td>\n",
              "      <td>536641.000000</td>\n",
              "      <td>536641.000000</td>\n",
              "      <td>536641.000000</td>\n",
              "      <td>536641.000000</td>\n",
              "      <td>536641.000000</td>\n",
              "      <td>536641.000000</td>\n",
              "      <td>536641.0</td>\n",
              "    </tr>\n",
              "    <tr>\n",
              "      <th>mean</th>\n",
              "      <td>11637.452703</td>\n",
              "      <td>1651.007717</td>\n",
              "      <td>9.620029</td>\n",
              "      <td>4.632656</td>\n",
              "      <td>15282.803924</td>\n",
              "      <td>34.245781</td>\n",
              "      <td>2010.921771</td>\n",
              "      <td>7.544820</td>\n",
              "      <td>15.024640</td>\n",
              "      <td>13.077154</td>\n",
              "      <td>30.006584</td>\n",
              "      <td>0.0</td>\n",
              "    </tr>\n",
              "    <tr>\n",
              "      <th>std</th>\n",
              "      <td>6726.069868</td>\n",
              "      <td>933.311643</td>\n",
              "      <td>219.130156</td>\n",
              "      <td>97.233118</td>\n",
              "      <td>1482.757424</td>\n",
              "      <td>6.246012</td>\n",
              "      <td>0.268532</td>\n",
              "      <td>3.508696</td>\n",
              "      <td>8.663351</td>\n",
              "      <td>2.447505</td>\n",
              "      <td>16.969535</td>\n",
              "      <td>0.0</td>\n",
              "    </tr>\n",
              "    <tr>\n",
              "      <th>min</th>\n",
              "      <td>0.000000</td>\n",
              "      <td>0.000000</td>\n",
              "      <td>-80995.000000</td>\n",
              "      <td>-11062.060000</td>\n",
              "      <td>12346.000000</td>\n",
              "      <td>0.000000</td>\n",
              "      <td>2010.000000</td>\n",
              "      <td>1.000000</td>\n",
              "      <td>1.000000</td>\n",
              "      <td>6.000000</td>\n",
              "      <td>0.000000</td>\n",
              "      <td>0.0</td>\n",
              "    </tr>\n",
              "    <tr>\n",
              "      <th>25%</th>\n",
              "      <td>5547.000000</td>\n",
              "      <td>966.000000</td>\n",
              "      <td>1.000000</td>\n",
              "      <td>1.250000</td>\n",
              "      <td>14367.000000</td>\n",
              "      <td>36.000000</td>\n",
              "      <td>2011.000000</td>\n",
              "      <td>5.000000</td>\n",
              "      <td>7.000000</td>\n",
              "      <td>11.000000</td>\n",
              "      <td>16.000000</td>\n",
              "      <td>0.0</td>\n",
              "    </tr>\n",
              "    <tr>\n",
              "      <th>50%</th>\n",
              "      <td>11945.000000</td>\n",
              "      <td>1563.000000</td>\n",
              "      <td>3.000000</td>\n",
              "      <td>2.080000</td>\n",
              "      <td>15287.690570</td>\n",
              "      <td>36.000000</td>\n",
              "      <td>2011.000000</td>\n",
              "      <td>8.000000</td>\n",
              "      <td>15.000000</td>\n",
              "      <td>13.000000</td>\n",
              "      <td>30.000000</td>\n",
              "      <td>0.0</td>\n",
              "    </tr>\n",
              "    <tr>\n",
              "      <th>75%</th>\n",
              "      <td>17462.000000</td>\n",
              "      <td>2175.000000</td>\n",
              "      <td>10.000000</td>\n",
              "      <td>4.130000</td>\n",
              "      <td>16241.000000</td>\n",
              "      <td>36.000000</td>\n",
              "      <td>2011.000000</td>\n",
              "      <td>11.000000</td>\n",
              "      <td>22.000000</td>\n",
              "      <td>15.000000</td>\n",
              "      <td>44.000000</td>\n",
              "      <td>0.0</td>\n",
              "    </tr>\n",
              "    <tr>\n",
              "      <th>max</th>\n",
              "      <td>25899.000000</td>\n",
              "      <td>4069.000000</td>\n",
              "      <td>80995.000000</td>\n",
              "      <td>38970.000000</td>\n",
              "      <td>18287.000000</td>\n",
              "      <td>37.000000</td>\n",
              "      <td>2011.000000</td>\n",
              "      <td>12.000000</td>\n",
              "      <td>31.000000</td>\n",
              "      <td>20.000000</td>\n",
              "      <td>59.000000</td>\n",
              "      <td>0.0</td>\n",
              "    </tr>\n",
              "  </tbody>\n",
              "</table>\n",
              "</div>\n",
              "      <button class=\"colab-df-convert\" onclick=\"convertToInteractive('df-0f5f13fb-2dee-4673-9c29-45ef660973af')\"\n",
              "              title=\"Convert this dataframe to an interactive table.\"\n",
              "              style=\"display:none;\">\n",
              "        \n",
              "  <svg xmlns=\"http://www.w3.org/2000/svg\" height=\"24px\"viewBox=\"0 0 24 24\"\n",
              "       width=\"24px\">\n",
              "    <path d=\"M0 0h24v24H0V0z\" fill=\"none\"/>\n",
              "    <path d=\"M18.56 5.44l.94 2.06.94-2.06 2.06-.94-2.06-.94-.94-2.06-.94 2.06-2.06.94zm-11 1L8.5 8.5l.94-2.06 2.06-.94-2.06-.94L8.5 2.5l-.94 2.06-2.06.94zm10 10l.94 2.06.94-2.06 2.06-.94-2.06-.94-.94-2.06-.94 2.06-2.06.94z\"/><path d=\"M17.41 7.96l-1.37-1.37c-.4-.4-.92-.59-1.43-.59-.52 0-1.04.2-1.43.59L10.3 9.45l-7.72 7.72c-.78.78-.78 2.05 0 2.83L4 21.41c.39.39.9.59 1.41.59.51 0 1.02-.2 1.41-.59l7.78-7.78 2.81-2.81c.8-.78.8-2.07 0-2.86zM5.41 20L4 18.59l7.72-7.72 1.47 1.35L5.41 20z\"/>\n",
              "  </svg>\n",
              "      </button>\n",
              "      \n",
              "  <style>\n",
              "    .colab-df-container {\n",
              "      display:flex;\n",
              "      flex-wrap:wrap;\n",
              "      gap: 12px;\n",
              "    }\n",
              "\n",
              "    .colab-df-convert {\n",
              "      background-color: #E8F0FE;\n",
              "      border: none;\n",
              "      border-radius: 50%;\n",
              "      cursor: pointer;\n",
              "      display: none;\n",
              "      fill: #1967D2;\n",
              "      height: 32px;\n",
              "      padding: 0 0 0 0;\n",
              "      width: 32px;\n",
              "    }\n",
              "\n",
              "    .colab-df-convert:hover {\n",
              "      background-color: #E2EBFA;\n",
              "      box-shadow: 0px 1px 2px rgba(60, 64, 67, 0.3), 0px 1px 3px 1px rgba(60, 64, 67, 0.15);\n",
              "      fill: #174EA6;\n",
              "    }\n",
              "\n",
              "    [theme=dark] .colab-df-convert {\n",
              "      background-color: #3B4455;\n",
              "      fill: #D2E3FC;\n",
              "    }\n",
              "\n",
              "    [theme=dark] .colab-df-convert:hover {\n",
              "      background-color: #434B5C;\n",
              "      box-shadow: 0px 1px 3px 1px rgba(0, 0, 0, 0.15);\n",
              "      filter: drop-shadow(0px 1px 2px rgba(0, 0, 0, 0.3));\n",
              "      fill: #FFFFFF;\n",
              "    }\n",
              "  </style>\n",
              "\n",
              "      <script>\n",
              "        const buttonEl =\n",
              "          document.querySelector('#df-0f5f13fb-2dee-4673-9c29-45ef660973af button.colab-df-convert');\n",
              "        buttonEl.style.display =\n",
              "          google.colab.kernel.accessAllowed ? 'block' : 'none';\n",
              "\n",
              "        async function convertToInteractive(key) {\n",
              "          const element = document.querySelector('#df-0f5f13fb-2dee-4673-9c29-45ef660973af');\n",
              "          const dataTable =\n",
              "            await google.colab.kernel.invokeFunction('convertToInteractive',\n",
              "                                                     [key], {});\n",
              "          if (!dataTable) return;\n",
              "\n",
              "          const docLinkHtml = 'Like what you see? Visit the ' +\n",
              "            '<a target=\"_blank\" href=https://colab.research.google.com/notebooks/data_table.ipynb>data table notebook</a>'\n",
              "            + ' to learn more about interactive tables.';\n",
              "          element.innerHTML = '';\n",
              "          dataTable['output_type'] = 'display_data';\n",
              "          await google.colab.output.renderOutput(dataTable, element);\n",
              "          const docLink = document.createElement('div');\n",
              "          docLink.innerHTML = docLinkHtml;\n",
              "          element.appendChild(docLink);\n",
              "        }\n",
              "      </script>\n",
              "    </div>\n",
              "  </div>\n",
              "  "
            ]
          },
          "metadata": {},
          "execution_count": 37
        }
      ]
    },
    {
      "cell_type": "code",
      "source": [
        "retail_1.nunique()"
      ],
      "metadata": {
        "colab": {
          "base_uri": "https://localhost:8080/"
        },
        "id": "SkGWN3lg71Mb",
        "outputId": "bd7bdec4-86ca-4faf-ce1f-0d4ef37f760c"
      },
      "execution_count": null,
      "outputs": [
        {
          "output_type": "execute_result",
          "data": {
            "text/plain": [
              "InvoiceNo      25900\n",
              "StockCode       4070\n",
              "Quantity         722\n",
              "InvoiceDate    23260\n",
              "UnitPrice       1630\n",
              "CustomerID      4373\n",
              "Country           38\n",
              "Year               2\n",
              "Month             12\n",
              "Day               31\n",
              "Hour              15\n",
              "Minute            60\n",
              "Second             1\n",
              "dtype: int64"
            ]
          },
          "metadata": {},
          "execution_count": 38
        }
      ]
    },
    {
      "cell_type": "markdown",
      "source": [
        "Data Transformation:\n",
        "\n",
        "Perform cohort analysis (a cohort is a group of subjects that share a defining characteristic). Observe how a cohort behaves across time and compare it to other cohorts.\n",
        "\n",
        "a. Create month cohorts and analyze active customers for each cohort."
      ],
      "metadata": {
        "id": "zS_6epWD7vIt"
      }
    },
    {
      "cell_type": "code",
      "source": [
        "# Importing the appropriate libraries\n",
        "import matplotlib.pyplot as plt\n",
        "\n",
        "# Group the data by month and count the number of unique CustomerIDs in each group\n",
        "monthly_active = retail_1.groupby(\"Month\")[\"CustomerID\"].nunique()\n",
        "\n",
        "# Define a list of colors to use for the bars\n",
        "colors = [\"#FFC300\", \"#FF5733\", \"#C70039\", \"#900C3F\", \"#581845\"]\n",
        "\n",
        "# Plot a bar chart of the monthly active customers with custom colors and y-axis label\n",
        "plt.bar(monthly_active.index, monthly_active.values, color=colors)\n",
        "\n",
        "plt.xlabel(\"Month\")  # set the x-axis label with name\n",
        "plt.ylabel(\"Customer\")  # set the y-axis label with name\n",
        "plt.title(\"Monthly Active Customers\")  # set the chart title with appropriate \n",
        "plt.show()  # displaying the chart"
      ],
      "metadata": {
        "colab": {
          "base_uri": "https://localhost:8080/",
          "height": 472
        },
        "id": "1BXefhdU5Tl3",
        "outputId": "bf7b2437-7298-474c-893d-c4ca38a930e6"
      },
      "execution_count": null,
      "outputs": [
        {
          "output_type": "display_data",
          "data": {
            "text/plain": [
              "<Figure size 640x480 with 1 Axes>"
            ],
            "image/png": "[encoded data removed]"
          },
          "metadata": {}
        }
      ]
    },
    {
      "cell_type": "markdown",
      "source": [
        "b. Analyze the retention rate of customers."
      ],
      "metadata": {
        "id": "0au1IdhkA3Er"
      }
    },
    {
      "cell_type": "code",
      "source": [
        "# Compute monthly retention rate of customers\n",
        "cohort_data = retail_1.groupby(['Month', 'CustomerID'])['InvoiceNo'].nunique().reset_index()\n",
        "cohort_counts = cohort_data.groupby(['Month', 'InvoiceNo'])['CustomerID'].nunique().reset_index()\n",
        "cohort_counts['Retention Rate'] = cohort_counts['CustomerID'] / cohort_counts['CustomerID'].shift()\n",
        "\n",
        "#Now the retention rate which was calculated can be plotted\n",
        "#Import the appropriate library for plotting\n",
        "import seaborn as sns\n",
        "\n",
        "# Pivot the data to create a heatmap\n",
        "retention_pivot = cohort_counts.pivot_table(index='Month', columns='InvoiceNo', values='Retention Rate')\n",
        "\n",
        "# Set the color palette and figure size\n",
        "sns.set(rc={'figure.figsize':(10,5)})\n",
        "sns.set_palette(\"RdYlGn\")\n",
        "\n",
        "# Create the heatmap with annotations\n",
        "ax = sns.heatmap(data=retention_pivot, annot=True, fmt='.0%', linewidths=0.3)\n",
        "\n",
        "# Set the axis labels and title\n",
        "ax.set_xlabel('Customer')\n",
        "ax.set_ylabel('Month')\n",
        "ax.set_title('Monthly Retention Rate')\n",
        "plt.show()\n"
      ],
      "metadata": {
        "colab": {
          "base_uri": "https://localhost:8080/",
          "height": 496
        },
        "id": "2saSx8am5TqO",
        "outputId": "59692a75-7dc7-4e8b-8f85-befd6617dee0"
      },
      "execution_count": null,
      "outputs": [
        {
          "output_type": "display_data",
          "data": {
            "text/plain": [
              "<Figure size 1000x500 with 2 Axes>"
            ],
            "image/png": "[encoded data removed]"
          },
          "metadata": {}
        }
      ]
    },
    {
      "cell_type": "code",
      "source": [
        "cohort_counts"
      ],
      "metadata": {
        "colab": {
          "base_uri": "https://localhost:8080/",
          "height": 424
        },
        "id": "L2Au0KUjE6dE",
        "outputId": "74688d2a-c813-4313-d0a1-dd75c5b507db"
      },
      "execution_count": null,
      "outputs": [
        {
          "output_type": "execute_result",
          "data": {
            "text/plain": [
              "     Month  InvoiceNo  CustomerID  Retention Rate\n",
              "0        1          1         530             NaN\n",
              "1        1          2         160        0.301887\n",
              "2        1          3          53        0.331250\n",
              "3        1          4          19        0.358491\n",
              "4        1          5           6        0.315789\n",
              "..     ...        ...         ...             ...\n",
              "166     12         18           1        0.500000\n",
              "167     12         26           1        1.000000\n",
              "168     12         34           1        1.000000\n",
              "169     12         46           1        1.000000\n",
              "170     12        411           1        1.000000\n",
              "\n",
              "[171 rows x 4 columns]"
            ],
            "text/html": [
              "\n",
              "  <div id=\"df-9d5a201b-ac49-44f4-920f-fa8e26a622ba\">\n",
              "    <div class=\"colab-df-container\">\n",
              "      <div>\n",
              "<style scoped>\n",
              "    .dataframe tbody tr th:only-of-type {\n",
              "        vertical-align: middle;\n",
              "    }\n",
              "\n",
              "    .dataframe tbody tr th {\n",
              "        vertical-align: top;\n",
              "    }\n",
              "\n",
              "    .dataframe thead th {\n",
              "        text-align: right;\n",
              "    }\n",
              "</style>\n",
              "<table border=\"1\" class=\"dataframe\">\n",
              "  <thead>\n",
              "    <tr style=\"text-align: right;\">\n",
              "      <th></th>\n",
              "      <th>Month</th>\n",
              "      <th>InvoiceNo</th>\n",
              "      <th>CustomerID</th>\n",
              "      <th>Retention Rate</th>\n",
              "    </tr>\n",
              "  </thead>\n",
              "  <tbody>\n",
              "    <tr>\n",
              "      <th>0</th>\n",
              "      <td>1</td>\n",
              "      <td>1</td>\n",
              "      <td>530</td>\n",
              "      <td>NaN</td>\n",
              "    </tr>\n",
              "    <tr>\n",
              "      <th>1</th>\n",
              "      <td>1</td>\n",
              "      <td>2</td>\n",
              "      <td>160</td>\n",
              "      <td>0.301887</td>\n",
              "    </tr>\n",
              "    <tr>\n",
              "      <th>2</th>\n",
              "      <td>1</td>\n",
              "      <td>3</td>\n",
              "      <td>53</td>\n",
              "      <td>0.331250</td>\n",
              "    </tr>\n",
              "    <tr>\n",
              "      <th>3</th>\n",
              "      <td>1</td>\n",
              "      <td>4</td>\n",
              "      <td>19</td>\n",
              "      <td>0.358491</td>\n",
              "    </tr>\n",
              "    <tr>\n",
              "      <th>4</th>\n",
              "      <td>1</td>\n",
              "      <td>5</td>\n",
              "      <td>6</td>\n",
              "      <td>0.315789</td>\n",
              "    </tr>\n",
              "    <tr>\n",
              "      <th>...</th>\n",
              "      <td>...</td>\n",
              "      <td>...</td>\n",
              "      <td>...</td>\n",
              "      <td>...</td>\n",
              "    </tr>\n",
              "    <tr>\n",
              "      <th>166</th>\n",
              "      <td>12</td>\n",
              "      <td>18</td>\n",
              "      <td>1</td>\n",
              "      <td>0.500000</td>\n",
              "    </tr>\n",
              "    <tr>\n",
              "      <th>167</th>\n",
              "      <td>12</td>\n",
              "      <td>26</td>\n",
              "      <td>1</td>\n",
              "      <td>1.000000</td>\n",
              "    </tr>\n",
              "    <tr>\n",
              "      <th>168</th>\n",
              "      <td>12</td>\n",
              "      <td>34</td>\n",
              "      <td>1</td>\n",
              "      <td>1.000000</td>\n",
              "    </tr>\n",
              "    <tr>\n",
              "      <th>169</th>\n",
              "      <td>12</td>\n",
              "      <td>46</td>\n",
              "      <td>1</td>\n",
              "      <td>1.000000</td>\n",
              "    </tr>\n",
              "    <tr>\n",
              "      <th>170</th>\n",
              "      <td>12</td>\n",
              "      <td>411</td>\n",
              "      <td>1</td>\n",
              "      <td>1.000000</td>\n",
              "    </tr>\n",
              "  </tbody>\n",
              "</table>\n",
              "<p>171 rows × 4 columns</p>\n",
              "</div>\n",
              "      <button class=\"colab-df-convert\" onclick=\"convertToInteractive('df-9d5a201b-ac49-44f4-920f-fa8e26a622ba')\"\n",
              "              title=\"Convert this dataframe to an interactive table.\"\n",
              "              style=\"display:none;\">\n",
              "        \n",
              "  <svg xmlns=\"http://www.w3.org/2000/svg\" height=\"24px\"viewBox=\"0 0 24 24\"\n",
              "       width=\"24px\">\n",
              "    <path d=\"M0 0h24v24H0V0z\" fill=\"none\"/>\n",
              "    <path d=\"M18.56 5.44l.94 2.06.94-2.06 2.06-.94-2.06-.94-.94-2.06-.94 2.06-2.06.94zm-11 1L8.5 8.5l.94-2.06 2.06-.94-2.06-.94L8.5 2.5l-.94 2.06-2.06.94zm10 10l.94 2.06.94-2.06 2.06-.94-2.06-.94-.94-2.06-.94 2.06-2.06.94z\"/><path d=\"M17.41 7.96l-1.37-1.37c-.4-.4-.92-.59-1.43-.59-.52 0-1.04.2-1.43.59L10.3 9.45l-7.72 7.72c-.78.78-.78 2.05 0 2.83L4 21.41c.39.39.9.59 1.41.59.51 0 1.02-.2 1.41-.59l7.78-7.78 2.81-2.81c.8-.78.8-2.07 0-2.86zM5.41 20L4 18.59l7.72-7.72 1.47 1.35L5.41 20z\"/>\n",
              "  </svg>\n",
              "      </button>\n",
              "      \n",
              "  <style>\n",
              "    .colab-df-container {\n",
              "      display:flex;\n",
              "      flex-wrap:wrap;\n",
              "      gap: 12px;\n",
              "    }\n",
              "\n",
              "    .colab-df-convert {\n",
              "      background-color: #E8F0FE;\n",
              "      border: none;\n",
              "      border-radius: 50%;\n",
              "      cursor: pointer;\n",
              "      display: none;\n",
              "      fill: #1967D2;\n",
              "      height: 32px;\n",
              "      padding: 0 0 0 0;\n",
              "      width: 32px;\n",
              "    }\n",
              "\n",
              "    .colab-df-convert:hover {\n",
              "      background-color: #E2EBFA;\n",
              "      box-shadow: 0px 1px 2px rgba(60, 64, 67, 0.3), 0px 1px 3px 1px rgba(60, 64, 67, 0.15);\n",
              "      fill: #174EA6;\n",
              "    }\n",
              "\n",
              "    [theme=dark] .colab-df-convert {\n",
              "      background-color: #3B4455;\n",
              "      fill: #D2E3FC;\n",
              "    }\n",
              "\n",
              "    [theme=dark] .colab-df-convert:hover {\n",
              "      background-color: #434B5C;\n",
              "      box-shadow: 0px 1px 3px 1px rgba(0, 0, 0, 0.15);\n",
              "      filter: drop-shadow(0px 1px 2px rgba(0, 0, 0, 0.3));\n",
              "      fill: #FFFFFF;\n",
              "    }\n",
              "  </style>\n",
              "\n",
              "      <script>\n",
              "        const buttonEl =\n",
              "          document.querySelector('#df-9d5a201b-ac49-44f4-920f-fa8e26a622ba button.colab-df-convert');\n",
              "        buttonEl.style.display =\n",
              "          google.colab.kernel.accessAllowed ? 'block' : 'none';\n",
              "\n",
              "        async function convertToInteractive(key) {\n",
              "          const element = document.querySelector('#df-9d5a201b-ac49-44f4-920f-fa8e26a622ba');\n",
              "          const dataTable =\n",
              "            await google.colab.kernel.invokeFunction('convertToInteractive',\n",
              "                                                     [key], {});\n",
              "          if (!dataTable) return;\n",
              "\n",
              "          const docLinkHtml = 'Like what you see? Visit the ' +\n",
              "            '<a target=\"_blank\" href=https://colab.research.google.com/notebooks/data_table.ipynb>data table notebook</a>'\n",
              "            + ' to learn more about interactive tables.';\n",
              "          element.innerHTML = '';\n",
              "          dataTable['output_type'] = 'display_data';\n",
              "          await google.colab.output.renderOutput(dataTable, element);\n",
              "          const docLink = document.createElement('div');\n",
              "          docLink.innerHTML = docLinkHtml;\n",
              "          element.appendChild(docLink);\n",
              "        }\n",
              "      </script>\n",
              "    </div>\n",
              "  </div>\n",
              "  "
            ]
          },
          "metadata": {},
          "execution_count": 41
        }
      ]
    },
    {
      "cell_type": "markdown",
      "source": [
        "Project Task 2\n",
        "\n",
        "Data Modeling :\n",
        "\n",
        "1. Build a RFM (Recency Frequency Monetary) model. Recency means the number of days since a customer made the last purchase. Frequency is the number of purchase in a given period. It could be 3 months, 6 months or 1 year. Monetary is the total amount of money a customer spent in that given period. Therefore, big spenders will be differentiated among other customers such as MVP (Minimum Viable Product) or VIP."
      ],
      "metadata": {
        "id": "F83kmrzHRdVq"
      }
    },
    {
      "cell_type": "code",
      "source": [
        "#First creating a new column calle TotalPrice with help of the existing column called Quanity and UnitPrice\n",
        "retail_1['TotalPrice'] = retail_1['Quantity'] * retail_1['UnitPrice']"
      ],
      "metadata": {
        "id": "BDlWMaVJi9cW"
      },
      "execution_count": null,
      "outputs": []
    },
    {
      "cell_type": "code",
      "source": [
        "retail_1[\"TotalPrice\"].head()"
      ],
      "metadata": {
        "colab": {
          "base_uri": "https://localhost:8080/"
        },
        "id": "8Q1gPY4Oj89i",
        "outputId": "493427c2-495b-4912-cab0-096294410acb"
      },
      "execution_count": null,
      "outputs": [
        {
          "output_type": "execute_result",
          "data": {
            "text/plain": [
              "0     1.25\n",
              "1    30.00\n",
              "2     5.10\n",
              "3     0.85\n",
              "4    19.50\n",
              "Name: TotalPrice, dtype: float64"
            ]
          },
          "metadata": {},
          "execution_count": 43
        }
      ]
    },
    {
      "cell_type": "code",
      "source": [
        "retail_1['CustomerID'] = retail_1['CustomerID'].astype(int)"
      ],
      "metadata": {
        "id": "dN7XDMqqqt0z"
      },
      "execution_count": null,
      "outputs": []
    },
    {
      "cell_type": "code",
      "source": [
        "retail_1.info()"
      ],
      "metadata": {
        "colab": {
          "base_uri": "https://localhost:8080/"
        },
        "id": "A5paNRbKq6xZ",
        "outputId": "b9cc7d17-b1a6-40c1-e220-1dbd1bca3035"
      },
      "execution_count": null,
      "outputs": [
        {
          "output_type": "stream",
          "name": "stdout",
          "text": [
            "<class 'pandas.core.frame.DataFrame'>\n",
            "Int64Index: 536641 entries, 0 to 162572\n",
            "Data columns (total 14 columns):\n",
            " #   Column       Non-Null Count   Dtype         \n",
            "---  ------       --------------   -----         \n",
            " 0   InvoiceNo    536641 non-null  int64         \n",
            " 1   StockCode    536641 non-null  int64         \n",
            " 2   Quantity     536641 non-null  int64         \n",
            " 3   InvoiceDate  536641 non-null  datetime64[ns]\n",
            " 4   UnitPrice    536641 non-null  float64       \n",
            " 5   CustomerID   536641 non-null  int64         \n",
            " 6   Country      536641 non-null  int64         \n",
            " 7   Year         536641 non-null  int64         \n",
            " 8   Month        536641 non-null  int64         \n",
            " 9   Day          536641 non-null  int64         \n",
            " 10  Hour         536641 non-null  int64         \n",
            " 11  Minute       536641 non-null  int64         \n",
            " 12  Second       536641 non-null  int64         \n",
            " 13  TotalPrice   536641 non-null  float64       \n",
            "dtypes: datetime64[ns](1), float64(2), int64(11)\n",
            "memory usage: 61.4 MB\n"
          ]
        }
      ]
    },
    {
      "cell_type": "code",
      "source": [
        "#First way of performing rfm\n",
        "# Import necessary libraries\n",
        "import datetime as dt\n",
        "\n",
        "\n",
        "\n",
        "# Convert date column to datetime\n",
        "retail_1['InvoiceDate'] = pd.to_datetime(retail_1['InvoiceDate'])\n",
        "\n",
        "# Calculate recency, frequency, and monetary value for each customer\n",
        "snapshot_date = retail_1['InvoiceDate'].max() + dt.timedelta(days=1)\n",
        "df_rfm = retail_1.groupby('CustomerID').agg({'InvoiceDate': lambda x: (snapshot_date - x.max()).days,\n",
        "                                       'InvoiceNo': 'count',\n",
        "                                       'TotalPrice': 'sum'})\n",
        "\n",
        "# Rename columns\n",
        "df_rfm.rename(columns={'InvoiceDate': 'Recency',\n",
        "                        'InvoiceNo': 'Frequency',\n",
        "                        'TotalPrice': 'MonetaryValue'},\n",
        "              inplace=True)\n",
        "\n",
        "\n",
        "df_rfm"
      ],
      "metadata": {
        "colab": {
          "base_uri": "https://localhost:8080/",
          "height": 455
        },
        "id": "SXGVmHbFa8R0",
        "outputId": "244ec133-fab3-4851-ce0f-21d842aeea51"
      },
      "execution_count": null,
      "outputs": [
        {
          "output_type": "execute_result",
          "data": {
            "text/plain": [
              "            Recency  Frequency  MonetaryValue\n",
              "CustomerID                                   \n",
              "12346           326          2           0.00\n",
              "12347             2        182        4310.00\n",
              "12348            75         31        1797.24\n",
              "12349            19         73        1757.55\n",
              "12350           310         17         334.40\n",
              "...             ...        ...            ...\n",
              "18280           278         10         180.60\n",
              "18281           181          7          80.82\n",
              "18282             8         13         176.60\n",
              "18283             4        721        2045.53\n",
              "18287            43         70        1837.28\n",
              "\n",
              "[4372 rows x 3 columns]"
            ],
            "text/html": [
              "\n",
              "  <div id=\"df-f378d45c-31ac-4f33-94b6-04c82ef12e4b\">\n",
              "    <div class=\"colab-df-container\">\n",
              "      <div>\n",
              "<style scoped>\n",
              "    .dataframe tbody tr th:only-of-type {\n",
              "        vertical-align: middle;\n",
              "    }\n",
              "\n",
              "    .dataframe tbody tr th {\n",
              "        vertical-align: top;\n",
              "    }\n",
              "\n",
              "    .dataframe thead th {\n",
              "        text-align: right;\n",
              "    }\n",
              "</style>\n",
              "<table border=\"1\" class=\"dataframe\">\n",
              "  <thead>\n",
              "    <tr style=\"text-align: right;\">\n",
              "      <th></th>\n",
              "      <th>Recency</th>\n",
              "      <th>Frequency</th>\n",
              "      <th>MonetaryValue</th>\n",
              "    </tr>\n",
              "    <tr>\n",
              "      <th>CustomerID</th>\n",
              "      <th></th>\n",
              "      <th></th>\n",
              "      <th></th>\n",
              "    </tr>\n",
              "  </thead>\n",
              "  <tbody>\n",
              "    <tr>\n",
              "      <th>12346</th>\n",
              "      <td>326</td>\n",
              "      <td>2</td>\n",
              "      <td>0.00</td>\n",
              "    </tr>\n",
              "    <tr>\n",
              "      <th>12347</th>\n",
              "      <td>2</td>\n",
              "      <td>182</td>\n",
              "      <td>4310.00</td>\n",
              "    </tr>\n",
              "    <tr>\n",
              "      <th>12348</th>\n",
              "      <td>75</td>\n",
              "      <td>31</td>\n",
              "      <td>1797.24</td>\n",
              "    </tr>\n",
              "    <tr>\n",
              "      <th>12349</th>\n",
              "      <td>19</td>\n",
              "      <td>73</td>\n",
              "      <td>1757.55</td>\n",
              "    </tr>\n",
              "    <tr>\n",
              "      <th>12350</th>\n",
              "      <td>310</td>\n",
              "      <td>17</td>\n",
              "      <td>334.40</td>\n",
              "    </tr>\n",
              "    <tr>\n",
              "      <th>...</th>\n",
              "      <td>...</td>\n",
              "      <td>...</td>\n",
              "      <td>...</td>\n",
              "    </tr>\n",
              "    <tr>\n",
              "      <th>18280</th>\n",
              "      <td>278</td>\n",
              "      <td>10</td>\n",
              "      <td>180.60</td>\n",
              "    </tr>\n",
              "    <tr>\n",
              "      <th>18281</th>\n",
              "      <td>181</td>\n",
              "      <td>7</td>\n",
              "      <td>80.82</td>\n",
              "    </tr>\n",
              "    <tr>\n",
              "      <th>18282</th>\n",
              "      <td>8</td>\n",
              "      <td>13</td>\n",
              "      <td>176.60</td>\n",
              "    </tr>\n",
              "    <tr>\n",
              "      <th>18283</th>\n",
              "      <td>4</td>\n",
              "      <td>721</td>\n",
              "      <td>2045.53</td>\n",
              "    </tr>\n",
              "    <tr>\n",
              "      <th>18287</th>\n",
              "      <td>43</td>\n",
              "      <td>70</td>\n",
              "      <td>1837.28</td>\n",
              "    </tr>\n",
              "  </tbody>\n",
              "</table>\n",
              "<p>4372 rows × 3 columns</p>\n",
              "</div>\n",
              "      <button class=\"colab-df-convert\" onclick=\"convertToInteractive('df-f378d45c-31ac-4f33-94b6-04c82ef12e4b')\"\n",
              "              title=\"Convert this dataframe to an interactive table.\"\n",
              "              style=\"display:none;\">\n",
              "        \n",
              "  <svg xmlns=\"http://www.w3.org/2000/svg\" height=\"24px\"viewBox=\"0 0 24 24\"\n",
              "       width=\"24px\">\n",
              "    <path d=\"M0 0h24v24H0V0z\" fill=\"none\"/>\n",
              "    <path d=\"M18.56 5.44l.94 2.06.94-2.06 2.06-.94-2.06-.94-.94-2.06-.94 2.06-2.06.94zm-11 1L8.5 8.5l.94-2.06 2.06-.94-2.06-.94L8.5 2.5l-.94 2.06-2.06.94zm10 10l.94 2.06.94-2.06 2.06-.94-2.06-.94-.94-2.06-.94 2.06-2.06.94z\"/><path d=\"M17.41 7.96l-1.37-1.37c-.4-.4-.92-.59-1.43-.59-.52 0-1.04.2-1.43.59L10.3 9.45l-7.72 7.72c-.78.78-.78 2.05 0 2.83L4 21.41c.39.39.9.59 1.41.59.51 0 1.02-.2 1.41-.59l7.78-7.78 2.81-2.81c.8-.78.8-2.07 0-2.86zM5.41 20L4 18.59l7.72-7.72 1.47 1.35L5.41 20z\"/>\n",
              "  </svg>\n",
              "      </button>\n",
              "      \n",
              "  <style>\n",
              "    .colab-df-container {\n",
              "      display:flex;\n",
              "      flex-wrap:wrap;\n",
              "      gap: 12px;\n",
              "    }\n",
              "\n",
              "    .colab-df-convert {\n",
              "      background-color: #E8F0FE;\n",
              "      border: none;\n",
              "      border-radius: 50%;\n",
              "      cursor: pointer;\n",
              "      display: none;\n",
              "      fill: #1967D2;\n",
              "      height: 32px;\n",
              "      padding: 0 0 0 0;\n",
              "      width: 32px;\n",
              "    }\n",
              "\n",
              "    .colab-df-convert:hover {\n",
              "      background-color: #E2EBFA;\n",
              "      box-shadow: 0px 1px 2px rgba(60, 64, 67, 0.3), 0px 1px 3px 1px rgba(60, 64, 67, 0.15);\n",
              "      fill: #174EA6;\n",
              "    }\n",
              "\n",
              "    [theme=dark] .colab-df-convert {\n",
              "      background-color: #3B4455;\n",
              "      fill: #D2E3FC;\n",
              "    }\n",
              "\n",
              "    [theme=dark] .colab-df-convert:hover {\n",
              "      background-color: #434B5C;\n",
              "      box-shadow: 0px 1px 3px 1px rgba(0, 0, 0, 0.15);\n",
              "      filter: drop-shadow(0px 1px 2px rgba(0, 0, 0, 0.3));\n",
              "      fill: #FFFFFF;\n",
              "    }\n",
              "  </style>\n",
              "\n",
              "      <script>\n",
              "        const buttonEl =\n",
              "          document.querySelector('#df-f378d45c-31ac-4f33-94b6-04c82ef12e4b button.colab-df-convert');\n",
              "        buttonEl.style.display =\n",
              "          google.colab.kernel.accessAllowed ? 'block' : 'none';\n",
              "\n",
              "        async function convertToInteractive(key) {\n",
              "          const element = document.querySelector('#df-f378d45c-31ac-4f33-94b6-04c82ef12e4b');\n",
              "          const dataTable =\n",
              "            await google.colab.kernel.invokeFunction('convertToInteractive',\n",
              "                                                     [key], {});\n",
              "          if (!dataTable) return;\n",
              "\n",
              "          const docLinkHtml = 'Like what you see? Visit the ' +\n",
              "            '<a target=\"_blank\" href=https://colab.research.google.com/notebooks/data_table.ipynb>data table notebook</a>'\n",
              "            + ' to learn more about interactive tables.';\n",
              "          element.innerHTML = '';\n",
              "          dataTable['output_type'] = 'display_data';\n",
              "          await google.colab.output.renderOutput(dataTable, element);\n",
              "          const docLink = document.createElement('div');\n",
              "          docLink.innerHTML = docLinkHtml;\n",
              "          element.appendChild(docLink);\n",
              "        }\n",
              "      </script>\n",
              "    </div>\n",
              "  </div>\n",
              "  "
            ]
          },
          "metadata": {},
          "execution_count": 46
        }
      ]
    },
    {
      "cell_type": "markdown",
      "source": [
        "This code is an implementation of RFM analysis, which is a customer segmentation technique used to identify and group customers based on their buying behavior.\n",
        "\n",
        "The code calculates three RFM metrics for each customer:\n",
        "\n",
        "Recency: The number of days since the customer's last purchase. This metric reflects how recently the customer has interacted with the business.\n",
        "\n",
        "Frequency: The total number of purchases made by the customer. This metric reflects how often the customer interacts with the business.\n",
        "\n",
        "MonetaryValue: The total amount of money spent by the customer on purchases. This metric reflects how valuable the customer is to the business.\n",
        "\n",
        "By calculating these metrics for each customer and grouping them based on their values, businesses can identify different customer segments with distinct buying behaviors and preferences. This information can be used to develop targeted marketing and sales strategies to increase customer loyalty and revenue.\n",
        "\n",
        "The code also renames the columns to make them more descriptive and easier to work with. The resulting dataframe, 'rfm', contains the RFM metrics for each customer and can be used for further analysis and segmentation"
      ],
      "metadata": {
        "id": "dvp_6w5rmpSl"
      }
    },
    {
      "cell_type": "markdown",
      "source": [
        "The 'rfm' dataframe displays the RFM metrics for each customer, with each row representing a unique customer and the columns representing the Recency, Frequency, and MonetaryValue metrics, respectively.\n",
        "\n",
        "For example, the first row of the dataframe corresponds to customer ID 12347.0, who made 2 purchases in total (Frequency=182), but hasn't made a purchase in 325 days (Recency=1) and has spent a total of 0.00 monetary units (MonetaryValue=4310.00).\n",
        "\n",
        "The other rows of the dataframe represent the RFM metrics for the other customers in the dataset, with each row providing a snapshot of that customer's behavior and value to the business."
      ],
      "metadata": {
        "id": "mnAOjTYFlozk"
      }
    },
    {
      "cell_type": "markdown",
      "source": [
        "2. Calculate RFM metrics.\n"
      ],
      "metadata": {
        "id": "qzcYCBVwne21"
      }
    },
    {
      "cell_type": "markdown",
      "source": [
        "This part of the code is used to calculate the weighted RFM scores for each customer. The idea behind this is to give different weights to each of the RFM metrics based on their relative importance to the business, and then combine them into a single score that reflects the overall value of the customer.\n"
      ],
      "metadata": {
        "id": "vEcAv8YboLb7"
      }
    },
    {
      "cell_type": "code",
      "source": [
        "# Create quantiles for RFM scores\n",
        "quantiles = df_rfm.quantile(q=[0.25, 0.5, 0.75])\n",
        "\n",
        "# Define functions to calculate RFM scores\n",
        "def r_score(x, c):\n",
        "    if x <= c['Recency'][0.25]:\n",
        "        return 4\n",
        "    elif x <= c['Frequency'][0.5]:\n",
        "        return 3\n",
        "    elif x <= c['MonetaryValue'][0.75]:\n",
        "        return 2\n",
        "    else:\n",
        "        return 1\n",
        "\n",
        "def fm_score(x, c):\n",
        "    if x <= c[0.25]:\n",
        "        return 1\n",
        "    elif x <= c[0.5]:\n",
        "        return 2\n",
        "    elif x <= c[0.75]:\n",
        "        return 3\n",
        "    else:\n",
        "        return 4\n",
        "\n",
        "# Calculate RFM scores for each customer\n",
        "df_rfm['R'] = df_rfm['Recency'].apply(r_score, args=(quantiles,))\n",
        "df_rfm['F'] = df_rfm['Frequency'].apply(fm_score, args=(quantiles['Frequency'],))\n",
        "df_rfm['M'] = df_rfm['MonetaryValue'].apply(fm_score, args=(quantiles['MonetaryValue'],))\n",
        "\n",
        "# Combine RFM scores into a single string\n",
        "df_rfm['RFM'] = df_rfm['R'].astype(str) + df_rfm['F'].astype(str) + df_rfm['M'].astype(str)\n",
        "\n",
        "\n"
      ],
      "metadata": {
        "id": "W4nDjOhe6nry"
      },
      "execution_count": null,
      "outputs": []
    },
    {
      "cell_type": "markdown",
      "source": [
        "b3. Analyze the RFM segments by summarizing them and comment on the findings.\n",
        "\n",
        "Note: Rate “recency\" for customer who has been active more recently higher than the less recent customer, because each company wants its customers to be recent.\n",
        "\n",
        "Note: Rate “frequency\" and “monetary\" higher, because the company wants the customer to visit more often and spend more money"
      ],
      "metadata": {
        "id": "q-SQwYHX6m5S"
      }
    },
    {
      "cell_type": "code",
      "source": [
        "# Assign segments based on RFM score\n",
        "segment_map = {\n",
        "    '444': 'Champions',\n",
        "    '344': 'Loyal Customers',\n",
        "    '434': 'Potential Loyalists',\n",
        "    '334': 'Recent Customers',\n",
        "    '444': 'Promising Customers',\n",
        "    '243': 'Customers Needing Attention',\n",
        "    '143': 'About To Sleep',\n",
        "    '241': 'At Risk',\n",
        "    '142': 'Can\\'t Lose Them',\n",
        "    '111': 'Hibernating'\n",
        "}\n",
        "\n",
        "df_rfm['Segment'] = df_rfm['RFM'].map(segment_map)\n",
        "\n",
        "df_rfm.head(5)"
      ],
      "metadata": {
        "colab": {
          "base_uri": "https://localhost:8080/",
          "height": 238
        },
        "id": "GsK3tN9s5VFt",
        "outputId": "30b56ae6-d65f-4405-e873-b0d6ae464750"
      },
      "execution_count": null,
      "outputs": [
        {
          "output_type": "execute_result",
          "data": {
            "text/plain": [
              "            Recency  Frequency  MonetaryValue  R  F  M  RFM  \\\n",
              "CustomerID                                                    \n",
              "12346           326          2           0.00  2  1  1  211   \n",
              "12347             2        182        4310.00  4  4  4  444   \n",
              "12348            75         31        1797.24  2  2  4  224   \n",
              "12349            19         73        1757.55  3  3  4  334   \n",
              "12350           310         17         334.40  2  1  2  212   \n",
              "\n",
              "                        Segment  \n",
              "CustomerID                       \n",
              "12346                       NaN  \n",
              "12347       Promising Customers  \n",
              "12348                       NaN  \n",
              "12349          Recent Customers  \n",
              "12350                       NaN  "
            ],
            "text/html": [
              "\n",
              "  <div id=\"df-0eef7689-92d3-4f3e-af85-42460394a3aa\">\n",
              "    <div class=\"colab-df-container\">\n",
              "      <div>\n",
              "<style scoped>\n",
              "    .dataframe tbody tr th:only-of-type {\n",
              "        vertical-align: middle;\n",
              "    }\n",
              "\n",
              "    .dataframe tbody tr th {\n",
              "        vertical-align: top;\n",
              "    }\n",
              "\n",
              "    .dataframe thead th {\n",
              "        text-align: right;\n",
              "    }\n",
              "</style>\n",
              "<table border=\"1\" class=\"dataframe\">\n",
              "  <thead>\n",
              "    <tr style=\"text-align: right;\">\n",
              "      <th></th>\n",
              "      <th>Recency</th>\n",
              "      <th>Frequency</th>\n",
              "      <th>MonetaryValue</th>\n",
              "      <th>R</th>\n",
              "      <th>F</th>\n",
              "      <th>M</th>\n",
              "      <th>RFM</th>\n",
              "      <th>Segment</th>\n",
              "    </tr>\n",
              "    <tr>\n",
              "      <th>CustomerID</th>\n",
              "      <th></th>\n",
              "      <th></th>\n",
              "      <th></th>\n",
              "      <th></th>\n",
              "      <th></th>\n",
              "      <th></th>\n",
              "      <th></th>\n",
              "      <th></th>\n",
              "    </tr>\n",
              "  </thead>\n",
              "  <tbody>\n",
              "    <tr>\n",
              "      <th>12346</th>\n",
              "      <td>326</td>\n",
              "      <td>2</td>\n",
              "      <td>0.00</td>\n",
              "      <td>2</td>\n",
              "      <td>1</td>\n",
              "      <td>1</td>\n",
              "      <td>211</td>\n",
              "      <td>NaN</td>\n",
              "    </tr>\n",
              "    <tr>\n",
              "      <th>12347</th>\n",
              "      <td>2</td>\n",
              "      <td>182</td>\n",
              "      <td>4310.00</td>\n",
              "      <td>4</td>\n",
              "      <td>4</td>\n",
              "      <td>4</td>\n",
              "      <td>444</td>\n",
              "      <td>Promising Customers</td>\n",
              "    </tr>\n",
              "    <tr>\n",
              "      <th>12348</th>\n",
              "      <td>75</td>\n",
              "      <td>31</td>\n",
              "      <td>1797.24</td>\n",
              "      <td>2</td>\n",
              "      <td>2</td>\n",
              "      <td>4</td>\n",
              "      <td>224</td>\n",
              "      <td>NaN</td>\n",
              "    </tr>\n",
              "    <tr>\n",
              "      <th>12349</th>\n",
              "      <td>19</td>\n",
              "      <td>73</td>\n",
              "      <td>1757.55</td>\n",
              "      <td>3</td>\n",
              "      <td>3</td>\n",
              "      <td>4</td>\n",
              "      <td>334</td>\n",
              "      <td>Recent Customers</td>\n",
              "    </tr>\n",
              "    <tr>\n",
              "      <th>12350</th>\n",
              "      <td>310</td>\n",
              "      <td>17</td>\n",
              "      <td>334.40</td>\n",
              "      <td>2</td>\n",
              "      <td>1</td>\n",
              "      <td>2</td>\n",
              "      <td>212</td>\n",
              "      <td>NaN</td>\n",
              "    </tr>\n",
              "  </tbody>\n",
              "</table>\n",
              "</div>\n",
              "      <button class=\"colab-df-convert\" onclick=\"convertToInteractive('df-0eef7689-92d3-4f3e-af85-42460394a3aa')\"\n",
              "              title=\"Convert this dataframe to an interactive table.\"\n",
              "              style=\"display:none;\">\n",
              "        \n",
              "  <svg xmlns=\"http://www.w3.org/2000/svg\" height=\"24px\"viewBox=\"0 0 24 24\"\n",
              "       width=\"24px\">\n",
              "    <path d=\"M0 0h24v24H0V0z\" fill=\"none\"/>\n",
              "    <path d=\"M18.56 5.44l.94 2.06.94-2.06 2.06-.94-2.06-.94-.94-2.06-.94 2.06-2.06.94zm-11 1L8.5 8.5l.94-2.06 2.06-.94-2.06-.94L8.5 2.5l-.94 2.06-2.06.94zm10 10l.94 2.06.94-2.06 2.06-.94-2.06-.94-.94-2.06-.94 2.06-2.06.94z\"/><path d=\"M17.41 7.96l-1.37-1.37c-.4-.4-.92-.59-1.43-.59-.52 0-1.04.2-1.43.59L10.3 9.45l-7.72 7.72c-.78.78-.78 2.05 0 2.83L4 21.41c.39.39.9.59 1.41.59.51 0 1.02-.2 1.41-.59l7.78-7.78 2.81-2.81c.8-.78.8-2.07 0-2.86zM5.41 20L4 18.59l7.72-7.72 1.47 1.35L5.41 20z\"/>\n",
              "  </svg>\n",
              "      </button>\n",
              "      \n",
              "  <style>\n",
              "    .colab-df-container {\n",
              "      display:flex;\n",
              "      flex-wrap:wrap;\n",
              "      gap: 12px;\n",
              "    }\n",
              "\n",
              "    .colab-df-convert {\n",
              "      background-color: #E8F0FE;\n",
              "      border: none;\n",
              "      border-radius: 50%;\n",
              "      cursor: pointer;\n",
              "      display: none;\n",
              "      fill: #1967D2;\n",
              "      height: 32px;\n",
              "      padding: 0 0 0 0;\n",
              "      width: 32px;\n",
              "    }\n",
              "\n",
              "    .colab-df-convert:hover {\n",
              "      background-color: #E2EBFA;\n",
              "      box-shadow: 0px 1px 2px rgba(60, 64, 67, 0.3), 0px 1px 3px 1px rgba(60, 64, 67, 0.15);\n",
              "      fill: #174EA6;\n",
              "    }\n",
              "\n",
              "    [theme=dark] .colab-df-convert {\n",
              "      background-color: #3B4455;\n",
              "      fill: #D2E3FC;\n",
              "    }\n",
              "\n",
              "    [theme=dark] .colab-df-convert:hover {\n",
              "      background-color: #434B5C;\n",
              "      box-shadow: 0px 1px 3px 1px rgba(0, 0, 0, 0.15);\n",
              "      filter: drop-shadow(0px 1px 2px rgba(0, 0, 0, 0.3));\n",
              "      fill: #FFFFFF;\n",
              "    }\n",
              "  </style>\n",
              "\n",
              "      <script>\n",
              "        const buttonEl =\n",
              "          document.querySelector('#df-0eef7689-92d3-4f3e-af85-42460394a3aa button.colab-df-convert');\n",
              "        buttonEl.style.display =\n",
              "          google.colab.kernel.accessAllowed ? 'block' : 'none';\n",
              "\n",
              "        async function convertToInteractive(key) {\n",
              "          const element = document.querySelector('#df-0eef7689-92d3-4f3e-af85-42460394a3aa');\n",
              "          const dataTable =\n",
              "            await google.colab.kernel.invokeFunction('convertToInteractive',\n",
              "                                                     [key], {});\n",
              "          if (!dataTable) return;\n",
              "\n",
              "          const docLinkHtml = 'Like what you see? Visit the ' +\n",
              "            '<a target=\"_blank\" href=https://colab.research.google.com/notebooks/data_table.ipynb>data table notebook</a>'\n",
              "            + ' to learn more about interactive tables.';\n",
              "          element.innerHTML = '';\n",
              "          dataTable['output_type'] = 'display_data';\n",
              "          await google.colab.output.renderOutput(dataTable, element);\n",
              "          const docLink = document.createElement('div');\n",
              "          docLink.innerHTML = docLinkHtml;\n",
              "          element.appendChild(docLink);\n",
              "        }\n",
              "      </script>\n",
              "    </div>\n",
              "  </div>\n",
              "  "
            ]
          },
          "metadata": {},
          "execution_count": 48
        }
      ]
    },
    {
      "cell_type": "code",
      "source": [
        "#Second way of performing the rfm\n",
        "import datetime as dt\n",
        "# Set the date range for the data\n",
        "end_date = max(retail_1['InvoiceDate'])\n",
        "start_date = end_date - dt.timedelta(days=365)\n",
        "\n",
        "# Calculate RFM metrics for each customer\n",
        "rfm = retail_1.groupby('CustomerID').agg({\n",
        "    'InvoiceDate': lambda x: (end_date - x.max()).days,\n",
        "    'InvoiceNo': 'count',\n",
        "    'TotalPrice': 'sum'})\n",
        "\n",
        "# Rename the columns\n",
        "rfm.rename(columns={'InvoiceDate': 'Recency',\n",
        "                     'InvoiceNo': 'Frequency',\n",
        "                     'TotalPrice': 'MonetaryValue'},\n",
        "           inplace=True)\n",
        "# Create a dictionary to store the metrics and the corresponding weight\n",
        "metrics = {'Recency': [1, 'max'], \n",
        "           'Frequency': [1, 'sum'],\n",
        "           'MonetaryValue': [1, 'sum']}\n",
        "\n",
        "# Calculate the weighted RFM scores for each customer\n",
        "for metric in metrics.keys():\n",
        "    weight, func = metrics[metric]\n",
        "    rfm[metric + '_Score'] = rfm[metric].apply(func)\n",
        "    rfm[metric + '_Score'] = (rfm[metric + '_Score'] / rfm[metric + '_Score'].max()) * weight\n",
        "# Divide the metrics into quartiles and assign a score from 1 to 4\n",
        "for metric in metrics.keys():\n",
        "    rfm[metric + '_Quartile'] = pd.qcut(rfm[metric], 4, labels=False) + 1\n",
        "    rfm[metric + '_Score'] = 4 - rfm[metric + '_Quartile'] + 1\n",
        "\n",
        "# Combine the scores to get an RFM segment\n",
        "rfm['RFM_Segment'] = rfm['Recency_Score'].astype(str) + rfm['Frequency_Score'].astype(str) + rfm['MonetaryValue_Score'].astype(str)\n",
        "\n",
        "# Calculate the RFM score by adding up the three ratings\n",
        "rfm['RFM_Score'] = rfm['Recency_Score'] + rfm['Frequency_Score'] + rfm['MonetaryValue_Score']\n",
        "# Summarize the RFM segments and calculate the average monetary value for each segment\n",
        "rfm_summary = rfm.groupby('RFM_Segment').agg({\n",
        "    'Recency': 'mean',\n",
        "    'Frequency': 'mean',\n",
        "    'MonetaryValue': 'mean',\n",
        "    'RFM_Score': 'mean'})\n",
        "\n",
        "# Print the summary\n",
        "print(rfm_summary)\n",
        "\n",
        "# Comment on the findings\n",
        "# The \"111\" segment consists of the most valuable customers who are recent, frequent, and big spenders.\n",
        "# The \"444\" segment consists of the least valuable customers who are not recent, infrequent, and low spenders.\n",
        "# The company can focus on retaining the \"111\" segment and re-engaging the \"311\" and \"411\" segments.\n"
      ],
      "metadata": {
        "colab": {
          "base_uri": "https://localhost:8080/"
        },
        "id": "zB8Ci2T95VUW",
        "outputId": "9bac5166-b21e-4e62-9f09-39e98e55b077"
      },
      "execution_count": null,
      "outputs": [
        {
          "output_type": "stream",
          "name": "stdout",
          "text": [
            "                Recency   Frequency  MonetaryValue  RFM_Score\n",
            "RFM_Segment                                                  \n",
            "111          203.350000  181.550000    2974.341550        3.0\n",
            "112          204.250000  146.458333    1100.051250        4.0\n",
            "113          199.333333  116.000000     496.800000        5.0\n",
            "121          215.357143   71.214286    3125.717143        4.0\n",
            "122          206.569231   61.969231    1001.748154        5.0\n",
            "...                 ...         ...            ...        ...\n",
            "434            8.227273   28.318182     195.185909       11.0\n",
            "441            4.333333    6.000000    7743.913333        9.0\n",
            "442            9.166667   11.583333    1054.214167       10.0\n",
            "443            7.454545   11.227273     411.531364       11.0\n",
            "444            8.264706    8.705882     161.151912       12.0\n",
            "\n",
            "[62 rows x 4 columns]\n"
          ]
        }
      ]
    },
    {
      "cell_type": "markdown",
      "source": [
        "Project Task: Week 3\n",
        "Data Modeling :\n",
        "\n",
        "1. Create clusters using k-means clustering algorithm.\n",
        "\n",
        "a. Prepare the data for the algorithm. If the data is asymmetrically distributed, manage the skewness with appropriate transformation. Standardize the data.\n",
        "\n",
        "b. Decide the optimum number of clusters to be formed.\n",
        "\n",
        "c. Analyze these clusters and comment on the results."
      ],
      "metadata": {
        "id": "Juw0u2rH-0zw"
      }
    },
    {
      "cell_type": "code",
      "source": [
        "rfm_summary.info()"
      ],
      "metadata": {
        "colab": {
          "base_uri": "https://localhost:8080/"
        },
        "id": "wcynOadk5VYX",
        "outputId": "d42d9b92-4b62-4356-eca6-bc07e161d0a8"
      },
      "execution_count": null,
      "outputs": [
        {
          "output_type": "stream",
          "name": "stdout",
          "text": [
            "<class 'pandas.core.frame.DataFrame'>\n",
            "Index: 62 entries, 111 to 444\n",
            "Data columns (total 4 columns):\n",
            " #   Column         Non-Null Count  Dtype  \n",
            "---  ------         --------------  -----  \n",
            " 0   Recency        62 non-null     float64\n",
            " 1   Frequency      62 non-null     float64\n",
            " 2   MonetaryValue  62 non-null     float64\n",
            " 3   RFM_Score      62 non-null     float64\n",
            "dtypes: float64(4)\n",
            "memory usage: 2.4+ KB\n"
          ]
        }
      ]
    },
    {
      "cell_type": "code",
      "source": [
        "rfm_summary.isnull().sum()"
      ],
      "metadata": {
        "colab": {
          "base_uri": "https://localhost:8080/"
        },
        "id": "Po8-imlh5VjN",
        "outputId": "5fe6bb87-87f5-440b-924e-dd926084accb"
      },
      "execution_count": null,
      "outputs": [
        {
          "output_type": "execute_result",
          "data": {
            "text/plain": [
              "Recency          0\n",
              "Frequency        0\n",
              "MonetaryValue    0\n",
              "RFM_Score        0\n",
              "dtype: int64"
            ]
          },
          "metadata": {},
          "execution_count": 119
        }
      ]
    },
    {
      "cell_type": "code",
      "source": [
        "rfm_summary.shape"
      ],
      "metadata": {
        "colab": {
          "base_uri": "https://localhost:8080/"
        },
        "id": "8TcVODba5Vmw",
        "outputId": "02895c69-1ae0-4617-ea51-d36a62baefcd"
      },
      "execution_count": null,
      "outputs": [
        {
          "output_type": "execute_result",
          "data": {
            "text/plain": [
              "(62, 4)"
            ]
          },
          "metadata": {},
          "execution_count": 120
        }
      ]
    },
    {
      "cell_type": "code",
      "source": [
        "rfm_summary.head()"
      ],
      "metadata": {
        "colab": {
          "base_uri": "https://localhost:8080/",
          "height": 238
        },
        "id": "J_xjuFYR5Vq-",
        "outputId": "d7974f5e-bd4f-4cd3-c7c6-ec50df47ed2c"
      },
      "execution_count": null,
      "outputs": [
        {
          "output_type": "execute_result",
          "data": {
            "text/plain": [
              "                Recency   Frequency  MonetaryValue  RFM_Score\n",
              "RFM_Segment                                                  \n",
              "111          203.350000  181.550000    2974.341550        3.0\n",
              "112          204.250000  146.458333    1100.051250        4.0\n",
              "113          199.333333  116.000000     496.800000        5.0\n",
              "121          215.357143   71.214286    3125.717143        4.0\n",
              "122          206.569231   61.969231    1001.748154        5.0"
            ],
            "text/html": [
              "\n",
              "  <div id=\"df-62651b80-d167-475a-878f-f47494ee565e\">\n",
              "    <div class=\"colab-df-container\">\n",
              "      <div>\n",
              "<style scoped>\n",
              "    .dataframe tbody tr th:only-of-type {\n",
              "        vertical-align: middle;\n",
              "    }\n",
              "\n",
              "    .dataframe tbody tr th {\n",
              "        vertical-align: top;\n",
              "    }\n",
              "\n",
              "    .dataframe thead th {\n",
              "        text-align: right;\n",
              "    }\n",
              "</style>\n",
              "<table border=\"1\" class=\"dataframe\">\n",
              "  <thead>\n",
              "    <tr style=\"text-align: right;\">\n",
              "      <th></th>\n",
              "      <th>Recency</th>\n",
              "      <th>Frequency</th>\n",
              "      <th>MonetaryValue</th>\n",
              "      <th>RFM_Score</th>\n",
              "    </tr>\n",
              "    <tr>\n",
              "      <th>RFM_Segment</th>\n",
              "      <th></th>\n",
              "      <th></th>\n",
              "      <th></th>\n",
              "      <th></th>\n",
              "    </tr>\n",
              "  </thead>\n",
              "  <tbody>\n",
              "    <tr>\n",
              "      <th>111</th>\n",
              "      <td>203.350000</td>\n",
              "      <td>181.550000</td>\n",
              "      <td>2974.341550</td>\n",
              "      <td>3.0</td>\n",
              "    </tr>\n",
              "    <tr>\n",
              "      <th>112</th>\n",
              "      <td>204.250000</td>\n",
              "      <td>146.458333</td>\n",
              "      <td>1100.051250</td>\n",
              "      <td>4.0</td>\n",
              "    </tr>\n",
              "    <tr>\n",
              "      <th>113</th>\n",
              "      <td>199.333333</td>\n",
              "      <td>116.000000</td>\n",
              "      <td>496.800000</td>\n",
              "      <td>5.0</td>\n",
              "    </tr>\n",
              "    <tr>\n",
              "      <th>121</th>\n",
              "      <td>215.357143</td>\n",
              "      <td>71.214286</td>\n",
              "      <td>3125.717143</td>\n",
              "      <td>4.0</td>\n",
              "    </tr>\n",
              "    <tr>\n",
              "      <th>122</th>\n",
              "      <td>206.569231</td>\n",
              "      <td>61.969231</td>\n",
              "      <td>1001.748154</td>\n",
              "      <td>5.0</td>\n",
              "    </tr>\n",
              "  </tbody>\n",
              "</table>\n",
              "</div>\n",
              "      <button class=\"colab-df-convert\" onclick=\"convertToInteractive('df-62651b80-d167-475a-878f-f47494ee565e')\"\n",
              "              title=\"Convert this dataframe to an interactive table.\"\n",
              "              style=\"display:none;\">\n",
              "        \n",
              "  <svg xmlns=\"http://www.w3.org/2000/svg\" height=\"24px\"viewBox=\"0 0 24 24\"\n",
              "       width=\"24px\">\n",
              "    <path d=\"M0 0h24v24H0V0z\" fill=\"none\"/>\n",
              "    <path d=\"M18.56 5.44l.94 2.06.94-2.06 2.06-.94-2.06-.94-.94-2.06-.94 2.06-2.06.94zm-11 1L8.5 8.5l.94-2.06 2.06-.94-2.06-.94L8.5 2.5l-.94 2.06-2.06.94zm10 10l.94 2.06.94-2.06 2.06-.94-2.06-.94-.94-2.06-.94 2.06-2.06.94z\"/><path d=\"M17.41 7.96l-1.37-1.37c-.4-.4-.92-.59-1.43-.59-.52 0-1.04.2-1.43.59L10.3 9.45l-7.72 7.72c-.78.78-.78 2.05 0 2.83L4 21.41c.39.39.9.59 1.41.59.51 0 1.02-.2 1.41-.59l7.78-7.78 2.81-2.81c.8-.78.8-2.07 0-2.86zM5.41 20L4 18.59l7.72-7.72 1.47 1.35L5.41 20z\"/>\n",
              "  </svg>\n",
              "      </button>\n",
              "      \n",
              "  <style>\n",
              "    .colab-df-container {\n",
              "      display:flex;\n",
              "      flex-wrap:wrap;\n",
              "      gap: 12px;\n",
              "    }\n",
              "\n",
              "    .colab-df-convert {\n",
              "      background-color: #E8F0FE;\n",
              "      border: none;\n",
              "      border-radius: 50%;\n",
              "      cursor: pointer;\n",
              "      display: none;\n",
              "      fill: #1967D2;\n",
              "      height: 32px;\n",
              "      padding: 0 0 0 0;\n",
              "      width: 32px;\n",
              "    }\n",
              "\n",
              "    .colab-df-convert:hover {\n",
              "      background-color: #E2EBFA;\n",
              "      box-shadow: 0px 1px 2px rgba(60, 64, 67, 0.3), 0px 1px 3px 1px rgba(60, 64, 67, 0.15);\n",
              "      fill: #174EA6;\n",
              "    }\n",
              "\n",
              "    [theme=dark] .colab-df-convert {\n",
              "      background-color: #3B4455;\n",
              "      fill: #D2E3FC;\n",
              "    }\n",
              "\n",
              "    [theme=dark] .colab-df-convert:hover {\n",
              "      background-color: #434B5C;\n",
              "      box-shadow: 0px 1px 3px 1px rgba(0, 0, 0, 0.15);\n",
              "      filter: drop-shadow(0px 1px 2px rgba(0, 0, 0, 0.3));\n",
              "      fill: #FFFFFF;\n",
              "    }\n",
              "  </style>\n",
              "\n",
              "      <script>\n",
              "        const buttonEl =\n",
              "          document.querySelector('#df-62651b80-d167-475a-878f-f47494ee565e button.colab-df-convert');\n",
              "        buttonEl.style.display =\n",
              "          google.colab.kernel.accessAllowed ? 'block' : 'none';\n",
              "\n",
              "        async function convertToInteractive(key) {\n",
              "          const element = document.querySelector('#df-62651b80-d167-475a-878f-f47494ee565e');\n",
              "          const dataTable =\n",
              "            await google.colab.kernel.invokeFunction('convertToInteractive',\n",
              "                                                     [key], {});\n",
              "          if (!dataTable) return;\n",
              "\n",
              "          const docLinkHtml = 'Like what you see? Visit the ' +\n",
              "            '<a target=\"_blank\" href=https://colab.research.google.com/notebooks/data_table.ipynb>data table notebook</a>'\n",
              "            + ' to learn more about interactive tables.';\n",
              "          element.innerHTML = '';\n",
              "          dataTable['output_type'] = 'display_data';\n",
              "          await google.colab.output.renderOutput(dataTable, element);\n",
              "          const docLink = document.createElement('div');\n",
              "          docLink.innerHTML = docLinkHtml;\n",
              "          element.appendChild(docLink);\n",
              "        }\n",
              "      </script>\n",
              "    </div>\n",
              "  </div>\n",
              "  "
            ]
          },
          "metadata": {},
          "execution_count": 122
        }
      ]
    },
    {
      "cell_type": "code",
      "source": [
        "rfm_summary.tail()"
      ],
      "metadata": {
        "colab": {
          "base_uri": "https://localhost:8080/",
          "height": 238
        },
        "id": "FErohr4g_7he",
        "outputId": "8d0aa076-cad4-4568-88e7-262bf4f3f312"
      },
      "execution_count": null,
      "outputs": [
        {
          "output_type": "execute_result",
          "data": {
            "text/plain": [
              "              Recency  Frequency  MonetaryValue  RFM_Score\n",
              "RFM_Segment                                               \n",
              "434          8.227273  28.318182     195.185909       11.0\n",
              "441          4.333333   6.000000    7743.913333        9.0\n",
              "442          9.166667  11.583333    1054.214167       10.0\n",
              "443          7.454545  11.227273     411.531364       11.0\n",
              "444          8.264706   8.705882     161.151912       12.0"
            ],
            "text/html": [
              "\n",
              "  <div id=\"df-fc3e7356-6a64-4a98-adbe-f8d20086f280\">\n",
              "    <div class=\"colab-df-container\">\n",
              "      <div>\n",
              "<style scoped>\n",
              "    .dataframe tbody tr th:only-of-type {\n",
              "        vertical-align: middle;\n",
              "    }\n",
              "\n",
              "    .dataframe tbody tr th {\n",
              "        vertical-align: top;\n",
              "    }\n",
              "\n",
              "    .dataframe thead th {\n",
              "        text-align: right;\n",
              "    }\n",
              "</style>\n",
              "<table border=\"1\" class=\"dataframe\">\n",
              "  <thead>\n",
              "    <tr style=\"text-align: right;\">\n",
              "      <th></th>\n",
              "      <th>Recency</th>\n",
              "      <th>Frequency</th>\n",
              "      <th>MonetaryValue</th>\n",
              "      <th>RFM_Score</th>\n",
              "    </tr>\n",
              "    <tr>\n",
              "      <th>RFM_Segment</th>\n",
              "      <th></th>\n",
              "      <th></th>\n",
              "      <th></th>\n",
              "      <th></th>\n",
              "    </tr>\n",
              "  </thead>\n",
              "  <tbody>\n",
              "    <tr>\n",
              "      <th>434</th>\n",
              "      <td>8.227273</td>\n",
              "      <td>28.318182</td>\n",
              "      <td>195.185909</td>\n",
              "      <td>11.0</td>\n",
              "    </tr>\n",
              "    <tr>\n",
              "      <th>441</th>\n",
              "      <td>4.333333</td>\n",
              "      <td>6.000000</td>\n",
              "      <td>7743.913333</td>\n",
              "      <td>9.0</td>\n",
              "    </tr>\n",
              "    <tr>\n",
              "      <th>442</th>\n",
              "      <td>9.166667</td>\n",
              "      <td>11.583333</td>\n",
              "      <td>1054.214167</td>\n",
              "      <td>10.0</td>\n",
              "    </tr>\n",
              "    <tr>\n",
              "      <th>443</th>\n",
              "      <td>7.454545</td>\n",
              "      <td>11.227273</td>\n",
              "      <td>411.531364</td>\n",
              "      <td>11.0</td>\n",
              "    </tr>\n",
              "    <tr>\n",
              "      <th>444</th>\n",
              "      <td>8.264706</td>\n",
              "      <td>8.705882</td>\n",
              "      <td>161.151912</td>\n",
              "      <td>12.0</td>\n",
              "    </tr>\n",
              "  </tbody>\n",
              "</table>\n",
              "</div>\n",
              "      <button class=\"colab-df-convert\" onclick=\"convertToInteractive('df-fc3e7356-6a64-4a98-adbe-f8d20086f280')\"\n",
              "              title=\"Convert this dataframe to an interactive table.\"\n",
              "              style=\"display:none;\">\n",
              "        \n",
              "  <svg xmlns=\"http://www.w3.org/2000/svg\" height=\"24px\"viewBox=\"0 0 24 24\"\n",
              "       width=\"24px\">\n",
              "    <path d=\"M0 0h24v24H0V0z\" fill=\"none\"/>\n",
              "    <path d=\"M18.56 5.44l.94 2.06.94-2.06 2.06-.94-2.06-.94-.94-2.06-.94 2.06-2.06.94zm-11 1L8.5 8.5l.94-2.06 2.06-.94-2.06-.94L8.5 2.5l-.94 2.06-2.06.94zm10 10l.94 2.06.94-2.06 2.06-.94-2.06-.94-.94-2.06-.94 2.06-2.06.94z\"/><path d=\"M17.41 7.96l-1.37-1.37c-.4-.4-.92-.59-1.43-.59-.52 0-1.04.2-1.43.59L10.3 9.45l-7.72 7.72c-.78.78-.78 2.05 0 2.83L4 21.41c.39.39.9.59 1.41.59.51 0 1.02-.2 1.41-.59l7.78-7.78 2.81-2.81c.8-.78.8-2.07 0-2.86zM5.41 20L4 18.59l7.72-7.72 1.47 1.35L5.41 20z\"/>\n",
              "  </svg>\n",
              "      </button>\n",
              "      \n",
              "  <style>\n",
              "    .colab-df-container {\n",
              "      display:flex;\n",
              "      flex-wrap:wrap;\n",
              "      gap: 12px;\n",
              "    }\n",
              "\n",
              "    .colab-df-convert {\n",
              "      background-color: #E8F0FE;\n",
              "      border: none;\n",
              "      border-radius: 50%;\n",
              "      cursor: pointer;\n",
              "      display: none;\n",
              "      fill: #1967D2;\n",
              "      height: 32px;\n",
              "      padding: 0 0 0 0;\n",
              "      width: 32px;\n",
              "    }\n",
              "\n",
              "    .colab-df-convert:hover {\n",
              "      background-color: #E2EBFA;\n",
              "      box-shadow: 0px 1px 2px rgba(60, 64, 67, 0.3), 0px 1px 3px 1px rgba(60, 64, 67, 0.15);\n",
              "      fill: #174EA6;\n",
              "    }\n",
              "\n",
              "    [theme=dark] .colab-df-convert {\n",
              "      background-color: #3B4455;\n",
              "      fill: #D2E3FC;\n",
              "    }\n",
              "\n",
              "    [theme=dark] .colab-df-convert:hover {\n",
              "      background-color: #434B5C;\n",
              "      box-shadow: 0px 1px 3px 1px rgba(0, 0, 0, 0.15);\n",
              "      filter: drop-shadow(0px 1px 2px rgba(0, 0, 0, 0.3));\n",
              "      fill: #FFFFFF;\n",
              "    }\n",
              "  </style>\n",
              "\n",
              "      <script>\n",
              "        const buttonEl =\n",
              "          document.querySelector('#df-fc3e7356-6a64-4a98-adbe-f8d20086f280 button.colab-df-convert');\n",
              "        buttonEl.style.display =\n",
              "          google.colab.kernel.accessAllowed ? 'block' : 'none';\n",
              "\n",
              "        async function convertToInteractive(key) {\n",
              "          const element = document.querySelector('#df-fc3e7356-6a64-4a98-adbe-f8d20086f280');\n",
              "          const dataTable =\n",
              "            await google.colab.kernel.invokeFunction('convertToInteractive',\n",
              "                                                     [key], {});\n",
              "          if (!dataTable) return;\n",
              "\n",
              "          const docLinkHtml = 'Like what you see? Visit the ' +\n",
              "            '<a target=\"_blank\" href=https://colab.research.google.com/notebooks/data_table.ipynb>data table notebook</a>'\n",
              "            + ' to learn more about interactive tables.';\n",
              "          element.innerHTML = '';\n",
              "          dataTable['output_type'] = 'display_data';\n",
              "          await google.colab.output.renderOutput(dataTable, element);\n",
              "          const docLink = document.createElement('div');\n",
              "          docLink.innerHTML = docLinkHtml;\n",
              "          element.appendChild(docLink);\n",
              "        }\n",
              "      </script>\n",
              "    </div>\n",
              "  </div>\n",
              "  "
            ]
          },
          "metadata": {},
          "execution_count": 123
        }
      ]
    },
    {
      "cell_type": "code",
      "source": [
        "rfm_summary.describe()"
      ],
      "metadata": {
        "colab": {
          "base_uri": "https://localhost:8080/",
          "height": 300
        },
        "id": "A2ARkm6u_7l8",
        "outputId": "af55fe8d-b3d9-40a7-c3bd-105a03bb6eb0"
      },
      "execution_count": null,
      "outputs": [
        {
          "output_type": "execute_result",
          "data": {
            "text/plain": [
              "          Recency   Frequency  MonetaryValue  RFM_Score\n",
              "count   62.000000   62.000000   6.200000e+01  62.000000\n",
              "mean    86.395198   70.851316   1.476604e+03   7.516129\n",
              "std     88.223946   94.784279   2.011297e+03   1.973114\n",
              "min      4.000000    6.000000  -7.105427e-15   3.000000\n",
              "25%     14.456461   15.153186   4.059599e+02   6.000000\n",
              "50%     45.230769   32.055070   8.759514e+02   7.500000\n",
              "75%     90.302249   76.508772   2.166780e+03   9.000000\n",
              "max    263.753181  654.865957   1.192301e+04  12.000000"
            ],
            "text/html": [
              "\n",
              "  <div id=\"df-ab5cc2cb-7db9-4735-b61d-f4a34427af8d\">\n",
              "    <div class=\"colab-df-container\">\n",
              "      <div>\n",
              "<style scoped>\n",
              "    .dataframe tbody tr th:only-of-type {\n",
              "        vertical-align: middle;\n",
              "    }\n",
              "\n",
              "    .dataframe tbody tr th {\n",
              "        vertical-align: top;\n",
              "    }\n",
              "\n",
              "    .dataframe thead th {\n",
              "        text-align: right;\n",
              "    }\n",
              "</style>\n",
              "<table border=\"1\" class=\"dataframe\">\n",
              "  <thead>\n",
              "    <tr style=\"text-align: right;\">\n",
              "      <th></th>\n",
              "      <th>Recency</th>\n",
              "      <th>Frequency</th>\n",
              "      <th>MonetaryValue</th>\n",
              "      <th>RFM_Score</th>\n",
              "    </tr>\n",
              "  </thead>\n",
              "  <tbody>\n",
              "    <tr>\n",
              "      <th>count</th>\n",
              "      <td>62.000000</td>\n",
              "      <td>62.000000</td>\n",
              "      <td>6.200000e+01</td>\n",
              "      <td>62.000000</td>\n",
              "    </tr>\n",
              "    <tr>\n",
              "      <th>mean</th>\n",
              "      <td>86.395198</td>\n",
              "      <td>70.851316</td>\n",
              "      <td>1.476604e+03</td>\n",
              "      <td>7.516129</td>\n",
              "    </tr>\n",
              "    <tr>\n",
              "      <th>std</th>\n",
              "      <td>88.223946</td>\n",
              "      <td>94.784279</td>\n",
              "      <td>2.011297e+03</td>\n",
              "      <td>1.973114</td>\n",
              "    </tr>\n",
              "    <tr>\n",
              "      <th>min</th>\n",
              "      <td>4.000000</td>\n",
              "      <td>6.000000</td>\n",
              "      <td>-7.105427e-15</td>\n",
              "      <td>3.000000</td>\n",
              "    </tr>\n",
              "    <tr>\n",
              "      <th>25%</th>\n",
              "      <td>14.456461</td>\n",
              "      <td>15.153186</td>\n",
              "      <td>4.059599e+02</td>\n",
              "      <td>6.000000</td>\n",
              "    </tr>\n",
              "    <tr>\n",
              "      <th>50%</th>\n",
              "      <td>45.230769</td>\n",
              "      <td>32.055070</td>\n",
              "      <td>8.759514e+02</td>\n",
              "      <td>7.500000</td>\n",
              "    </tr>\n",
              "    <tr>\n",
              "      <th>75%</th>\n",
              "      <td>90.302249</td>\n",
              "      <td>76.508772</td>\n",
              "      <td>2.166780e+03</td>\n",
              "      <td>9.000000</td>\n",
              "    </tr>\n",
              "    <tr>\n",
              "      <th>max</th>\n",
              "      <td>263.753181</td>\n",
              "      <td>654.865957</td>\n",
              "      <td>1.192301e+04</td>\n",
              "      <td>12.000000</td>\n",
              "    </tr>\n",
              "  </tbody>\n",
              "</table>\n",
              "</div>\n",
              "      <button class=\"colab-df-convert\" onclick=\"convertToInteractive('df-ab5cc2cb-7db9-4735-b61d-f4a34427af8d')\"\n",
              "              title=\"Convert this dataframe to an interactive table.\"\n",
              "              style=\"display:none;\">\n",
              "        \n",
              "  <svg xmlns=\"http://www.w3.org/2000/svg\" height=\"24px\"viewBox=\"0 0 24 24\"\n",
              "       width=\"24px\">\n",
              "    <path d=\"M0 0h24v24H0V0z\" fill=\"none\"/>\n",
              "    <path d=\"M18.56 5.44l.94 2.06.94-2.06 2.06-.94-2.06-.94-.94-2.06-.94 2.06-2.06.94zm-11 1L8.5 8.5l.94-2.06 2.06-.94-2.06-.94L8.5 2.5l-.94 2.06-2.06.94zm10 10l.94 2.06.94-2.06 2.06-.94-2.06-.94-.94-2.06-.94 2.06-2.06.94z\"/><path d=\"M17.41 7.96l-1.37-1.37c-.4-.4-.92-.59-1.43-.59-.52 0-1.04.2-1.43.59L10.3 9.45l-7.72 7.72c-.78.78-.78 2.05 0 2.83L4 21.41c.39.39.9.59 1.41.59.51 0 1.02-.2 1.41-.59l7.78-7.78 2.81-2.81c.8-.78.8-2.07 0-2.86zM5.41 20L4 18.59l7.72-7.72 1.47 1.35L5.41 20z\"/>\n",
              "  </svg>\n",
              "      </button>\n",
              "      \n",
              "  <style>\n",
              "    .colab-df-container {\n",
              "      display:flex;\n",
              "      flex-wrap:wrap;\n",
              "      gap: 12px;\n",
              "    }\n",
              "\n",
              "    .colab-df-convert {\n",
              "      background-color: #E8F0FE;\n",
              "      border: none;\n",
              "      border-radius: 50%;\n",
              "      cursor: pointer;\n",
              "      display: none;\n",
              "      fill: #1967D2;\n",
              "      height: 32px;\n",
              "      padding: 0 0 0 0;\n",
              "      width: 32px;\n",
              "    }\n",
              "\n",
              "    .colab-df-convert:hover {\n",
              "      background-color: #E2EBFA;\n",
              "      box-shadow: 0px 1px 2px rgba(60, 64, 67, 0.3), 0px 1px 3px 1px rgba(60, 64, 67, 0.15);\n",
              "      fill: #174EA6;\n",
              "    }\n",
              "\n",
              "    [theme=dark] .colab-df-convert {\n",
              "      background-color: #3B4455;\n",
              "      fill: #D2E3FC;\n",
              "    }\n",
              "\n",
              "    [theme=dark] .colab-df-convert:hover {\n",
              "      background-color: #434B5C;\n",
              "      box-shadow: 0px 1px 3px 1px rgba(0, 0, 0, 0.15);\n",
              "      filter: drop-shadow(0px 1px 2px rgba(0, 0, 0, 0.3));\n",
              "      fill: #FFFFFF;\n",
              "    }\n",
              "  </style>\n",
              "\n",
              "      <script>\n",
              "        const buttonEl =\n",
              "          document.querySelector('#df-ab5cc2cb-7db9-4735-b61d-f4a34427af8d button.colab-df-convert');\n",
              "        buttonEl.style.display =\n",
              "          google.colab.kernel.accessAllowed ? 'block' : 'none';\n",
              "\n",
              "        async function convertToInteractive(key) {\n",
              "          const element = document.querySelector('#df-ab5cc2cb-7db9-4735-b61d-f4a34427af8d');\n",
              "          const dataTable =\n",
              "            await google.colab.kernel.invokeFunction('convertToInteractive',\n",
              "                                                     [key], {});\n",
              "          if (!dataTable) return;\n",
              "\n",
              "          const docLinkHtml = 'Like what you see? Visit the ' +\n",
              "            '<a target=\"_blank\" href=https://colab.research.google.com/notebooks/data_table.ipynb>data table notebook</a>'\n",
              "            + ' to learn more about interactive tables.';\n",
              "          element.innerHTML = '';\n",
              "          dataTable['output_type'] = 'display_data';\n",
              "          await google.colab.output.renderOutput(dataTable, element);\n",
              "          const docLink = document.createElement('div');\n",
              "          docLink.innerHTML = docLinkHtml;\n",
              "          element.appendChild(docLink);\n",
              "        }\n",
              "      </script>\n",
              "    </div>\n",
              "  </div>\n",
              "  "
            ]
          },
          "metadata": {},
          "execution_count": 124
        }
      ]
    },
    {
      "cell_type": "code",
      "source": [
        "#importing the apprpriate libraries\n",
        "import numpy as np\n",
        "import matplotlib.pyplot as plt\n",
        "from sklearn.cluster import KMeans\n",
        "from sklearn.metrics import silhouette_score\n",
        "\n",
        "\n",
        "\n",
        "# select the relevant columns for the clustering task\n",
        "df1 = rfm_summary[['Recency', 'Frequency', 'MonetaryValue', 'RFM_Score']].head(62)\n",
        "\n",
        "#Performing the standard scaler technique\n",
        "from sklearn.preprocessing import StandardScaler\n",
        "df1 = pd.DataFrame(StandardScaler().fit_transform(df1))\n",
        "\n",
        "# determine the optimal number of clusters using the Elbow method\n",
        "from sklearn.cluster import KMeans\n",
        "wcss = []\n",
        "for i in range(1, 11):\n",
        "    kmeans = KMeans(n_clusters=i, init='k-means++', max_iter=300, n_init=10, random_state=0)\n",
        "    kmeans.fit(df1)\n",
        "    wcss.append(kmeans.inertia_)\n",
        "plt.plot(range(1, 11), wcss)\n",
        "plt.title('Elbow Method')\n",
        "plt.xlabel('Number of Clusters')\n",
        "plt.ylabel('WCSS')\n",
        "plt.show()"
      ],
      "metadata": {
        "colab": {
          "base_uri": "https://localhost:8080/",
          "height": 496
        },
        "id": "sq2WoRxyPMRI",
        "outputId": "7ede90ae-cd48-4962-b0b5-2a6671fc88ab"
      },
      "execution_count": null,
      "outputs": [
        {
          "output_type": "display_data",
          "data": {
            "text/plain": [
              "<Figure size 1000x500 with 1 Axes>"
            ],
            "image/png": "[encoded data removed]"
          },
          "metadata": {}
        }
      ]
    },
    {
      "cell_type": "code",
      "source": [
        "# determine the optimal number of clusters using the Silhouette method\n",
        "silhouette_scores = []\n",
        "for i in range(2, 10):\n",
        "    kmeans = KMeans(n_clusters=i, init='k-means++', max_iter=300, n_init=10, random_state=0)\n",
        "    kmeans.fit(df1)\n",
        "    score = silhouette_score(df1, kmeans.labels_)\n",
        "    silhouette_scores.append(score)\n",
        "plt.plot(range(2, 10), silhouette_scores)\n",
        "plt.title('Silhouette Method')\n",
        "plt.xlabel('Number of Clusters')\n",
        "plt.ylabel('Silhouette Score')\n",
        "plt.show()"
      ],
      "metadata": {
        "colab": {
          "base_uri": "https://localhost:8080/",
          "height": 496
        },
        "id": "b9v3ckjJPMWi",
        "outputId": "225d1468-f7c5-40e3-a298-3899cce99611"
      },
      "execution_count": null,
      "outputs": [
        {
          "output_type": "display_data",
          "data": {
            "text/plain": [
              "<Figure size 1000x500 with 1 Axes>"
            ],
            "image/png": "[encoded data removed]"
          },
          "metadata": {}
        }
      ]
    },
    {
      "cell_type": "code",
      "source": [
        "silhouette_scores = []\n",
        "for i in range(2, 10):\n",
        "    kmeans = KMeans(n_clusters=i, init='k-means++', max_iter=300, n_init=10, random_state=0)\n",
        "    kmeans.fit(df1)\n",
        "    score = silhouette_score(df1, kmeans.labels_)\n",
        "    silhouette_scores.append(score)\n",
        "    print(f'Silhouette score for {i} clusters: {score}')"
      ],
      "metadata": {
        "colab": {
          "base_uri": "https://localhost:8080/"
        },
        "id": "1tizl2_-PMbS",
        "outputId": "c65b1758-22f7-4f7b-f34a-8204a9f73bd2"
      },
      "execution_count": null,
      "outputs": [
        {
          "output_type": "stream",
          "name": "stdout",
          "text": [
            "Silhouette score for 2 clusters: 0.36644078177352\n",
            "Silhouette score for 3 clusters: 0.37225594551366015\n",
            "Silhouette score for 4 clusters: 0.36173892216611914\n",
            "Silhouette score for 5 clusters: 0.374905119449605\n",
            "Silhouette score for 6 clusters: 0.3845532549309504\n",
            "Silhouette score for 7 clusters: 0.3208666005461056\n",
            "Silhouette score for 8 clusters: 0.3279096875247741\n",
            "Silhouette score for 9 clusters: 0.34165006065647946\n"
          ]
        }
      ]
    },
    {
      "cell_type": "code",
      "source": [
        "# perform k-means clustering with optimal number of clusters\n",
        "kmeans = KMeans(n_clusters=2, init='k-means++', max_iter=300, n_init=10, random_state=0)\n",
        "pred_y = kmeans.fit_predict(df1)"
      ],
      "metadata": {
        "id": "fZZkmQLTPMf3"
      },
      "execution_count": null,
      "outputs": []
    },
    {
      "cell_type": "code",
      "source": [
        "df1 = rfm_summary[['Recency', 'Frequency', 'MonetaryValue', 'RFM_Score']].head(62)\n",
        "df1['Cluster'] = pred_y"
      ],
      "metadata": {
        "id": "0Wf1y_9RkhTn"
      },
      "execution_count": null,
      "outputs": []
    },
    {
      "cell_type": "code",
      "source": [
        "df1.head(62)"
      ],
      "metadata": {
        "colab": {
          "base_uri": "https://localhost:8080/",
          "height": 455
        },
        "id": "LVTCKeZHksgM",
        "outputId": "ca55beb0-a344-45df-aad2-a2c0ba5f0083"
      },
      "execution_count": null,
      "outputs": [
        {
          "output_type": "execute_result",
          "data": {
            "text/plain": [
              "                Recency   Frequency  MonetaryValue  RFM_Score  Cluster\n",
              "RFM_Segment                                                           \n",
              "111          203.350000  181.550000    2974.341550        3.0        0\n",
              "112          204.250000  146.458333    1100.051250        4.0        0\n",
              "113          199.333333  116.000000     496.800000        5.0        0\n",
              "121          215.357143   71.214286    3125.717143        4.0        0\n",
              "122          206.569231   61.969231    1001.748154        5.0        0\n",
              "...                 ...         ...            ...        ...      ...\n",
              "434            8.227273   28.318182     195.185909       11.0        0\n",
              "441            4.333333    6.000000    7743.913333        9.0        1\n",
              "442            9.166667   11.583333    1054.214167       10.0        0\n",
              "443            7.454545   11.227273     411.531364       11.0        0\n",
              "444            8.264706    8.705882     161.151912       12.0        0\n",
              "\n",
              "[62 rows x 5 columns]"
            ],
            "text/html": [
              "\n",
              "  <div id=\"df-ab42100c-238d-4726-9ba8-a20cfd79b572\">\n",
              "    <div class=\"colab-df-container\">\n",
              "      <div>\n",
              "<style scoped>\n",
              "    .dataframe tbody tr th:only-of-type {\n",
              "        vertical-align: middle;\n",
              "    }\n",
              "\n",
              "    .dataframe tbody tr th {\n",
              "        vertical-align: top;\n",
              "    }\n",
              "\n",
              "    .dataframe thead th {\n",
              "        text-align: right;\n",
              "    }\n",
              "</style>\n",
              "<table border=\"1\" class=\"dataframe\">\n",
              "  <thead>\n",
              "    <tr style=\"text-align: right;\">\n",
              "      <th></th>\n",
              "      <th>Recency</th>\n",
              "      <th>Frequency</th>\n",
              "      <th>MonetaryValue</th>\n",
              "      <th>RFM_Score</th>\n",
              "      <th>Cluster</th>\n",
              "    </tr>\n",
              "    <tr>\n",
              "      <th>RFM_Segment</th>\n",
              "      <th></th>\n",
              "      <th></th>\n",
              "      <th></th>\n",
              "      <th></th>\n",
              "      <th></th>\n",
              "    </tr>\n",
              "  </thead>\n",
              "  <tbody>\n",
              "    <tr>\n",
              "      <th>111</th>\n",
              "      <td>203.350000</td>\n",
              "      <td>181.550000</td>\n",
              "      <td>2974.341550</td>\n",
              "      <td>3.0</td>\n",
              "      <td>0</td>\n",
              "    </tr>\n",
              "    <tr>\n",
              "      <th>112</th>\n",
              "      <td>204.250000</td>\n",
              "      <td>146.458333</td>\n",
              "      <td>1100.051250</td>\n",
              "      <td>4.0</td>\n",
              "      <td>0</td>\n",
              "    </tr>\n",
              "    <tr>\n",
              "      <th>113</th>\n",
              "      <td>199.333333</td>\n",
              "      <td>116.000000</td>\n",
              "      <td>496.800000</td>\n",
              "      <td>5.0</td>\n",
              "      <td>0</td>\n",
              "    </tr>\n",
              "    <tr>\n",
              "      <th>121</th>\n",
              "      <td>215.357143</td>\n",
              "      <td>71.214286</td>\n",
              "      <td>3125.717143</td>\n",
              "      <td>4.0</td>\n",
              "      <td>0</td>\n",
              "    </tr>\n",
              "    <tr>\n",
              "      <th>122</th>\n",
              "      <td>206.569231</td>\n",
              "      <td>61.969231</td>\n",
              "      <td>1001.748154</td>\n",
              "      <td>5.0</td>\n",
              "      <td>0</td>\n",
              "    </tr>\n",
              "    <tr>\n",
              "      <th>...</th>\n",
              "      <td>...</td>\n",
              "      <td>...</td>\n",
              "      <td>...</td>\n",
              "      <td>...</td>\n",
              "      <td>...</td>\n",
              "    </tr>\n",
              "    <tr>\n",
              "      <th>434</th>\n",
              "      <td>8.227273</td>\n",
              "      <td>28.318182</td>\n",
              "      <td>195.185909</td>\n",
              "      <td>11.0</td>\n",
              "      <td>0</td>\n",
              "    </tr>\n",
              "    <tr>\n",
              "      <th>441</th>\n",
              "      <td>4.333333</td>\n",
              "      <td>6.000000</td>\n",
              "      <td>7743.913333</td>\n",
              "      <td>9.0</td>\n",
              "      <td>1</td>\n",
              "    </tr>\n",
              "    <tr>\n",
              "      <th>442</th>\n",
              "      <td>9.166667</td>\n",
              "      <td>11.583333</td>\n",
              "      <td>1054.214167</td>\n",
              "      <td>10.0</td>\n",
              "      <td>0</td>\n",
              "    </tr>\n",
              "    <tr>\n",
              "      <th>443</th>\n",
              "      <td>7.454545</td>\n",
              "      <td>11.227273</td>\n",
              "      <td>411.531364</td>\n",
              "      <td>11.0</td>\n",
              "      <td>0</td>\n",
              "    </tr>\n",
              "    <tr>\n",
              "      <th>444</th>\n",
              "      <td>8.264706</td>\n",
              "      <td>8.705882</td>\n",
              "      <td>161.151912</td>\n",
              "      <td>12.0</td>\n",
              "      <td>0</td>\n",
              "    </tr>\n",
              "  </tbody>\n",
              "</table>\n",
              "<p>62 rows × 5 columns</p>\n",
              "</div>\n",
              "      <button class=\"colab-df-convert\" onclick=\"convertToInteractive('df-ab42100c-238d-4726-9ba8-a20cfd79b572')\"\n",
              "              title=\"Convert this dataframe to an interactive table.\"\n",
              "              style=\"display:none;\">\n",
              "        \n",
              "  <svg xmlns=\"http://www.w3.org/2000/svg\" height=\"24px\"viewBox=\"0 0 24 24\"\n",
              "       width=\"24px\">\n",
              "    <path d=\"M0 0h24v24H0V0z\" fill=\"none\"/>\n",
              "    <path d=\"M18.56 5.44l.94 2.06.94-2.06 2.06-.94-2.06-.94-.94-2.06-.94 2.06-2.06.94zm-11 1L8.5 8.5l.94-2.06 2.06-.94-2.06-.94L8.5 2.5l-.94 2.06-2.06.94zm10 10l.94 2.06.94-2.06 2.06-.94-2.06-.94-.94-2.06-.94 2.06-2.06.94z\"/><path d=\"M17.41 7.96l-1.37-1.37c-.4-.4-.92-.59-1.43-.59-.52 0-1.04.2-1.43.59L10.3 9.45l-7.72 7.72c-.78.78-.78 2.05 0 2.83L4 21.41c.39.39.9.59 1.41.59.51 0 1.02-.2 1.41-.59l7.78-7.78 2.81-2.81c.8-.78.8-2.07 0-2.86zM5.41 20L4 18.59l7.72-7.72 1.47 1.35L5.41 20z\"/>\n",
              "  </svg>\n",
              "      </button>\n",
              "      \n",
              "  <style>\n",
              "    .colab-df-container {\n",
              "      display:flex;\n",
              "      flex-wrap:wrap;\n",
              "      gap: 12px;\n",
              "    }\n",
              "\n",
              "    .colab-df-convert {\n",
              "      background-color: #E8F0FE;\n",
              "      border: none;\n",
              "      border-radius: 50%;\n",
              "      cursor: pointer;\n",
              "      display: none;\n",
              "      fill: #1967D2;\n",
              "      height: 32px;\n",
              "      padding: 0 0 0 0;\n",
              "      width: 32px;\n",
              "    }\n",
              "\n",
              "    .colab-df-convert:hover {\n",
              "      background-color: #E2EBFA;\n",
              "      box-shadow: 0px 1px 2px rgba(60, 64, 67, 0.3), 0px 1px 3px 1px rgba(60, 64, 67, 0.15);\n",
              "      fill: #174EA6;\n",
              "    }\n",
              "\n",
              "    [theme=dark] .colab-df-convert {\n",
              "      background-color: #3B4455;\n",
              "      fill: #D2E3FC;\n",
              "    }\n",
              "\n",
              "    [theme=dark] .colab-df-convert:hover {\n",
              "      background-color: #434B5C;\n",
              "      box-shadow: 0px 1px 3px 1px rgba(0, 0, 0, 0.15);\n",
              "      filter: drop-shadow(0px 1px 2px rgba(0, 0, 0, 0.3));\n",
              "      fill: #FFFFFF;\n",
              "    }\n",
              "  </style>\n",
              "\n",
              "      <script>\n",
              "        const buttonEl =\n",
              "          document.querySelector('#df-ab42100c-238d-4726-9ba8-a20cfd79b572 button.colab-df-convert');\n",
              "        buttonEl.style.display =\n",
              "          google.colab.kernel.accessAllowed ? 'block' : 'none';\n",
              "\n",
              "        async function convertToInteractive(key) {\n",
              "          const element = document.querySelector('#df-ab42100c-238d-4726-9ba8-a20cfd79b572');\n",
              "          const dataTable =\n",
              "            await google.colab.kernel.invokeFunction('convertToInteractive',\n",
              "                                                     [key], {});\n",
              "          if (!dataTable) return;\n",
              "\n",
              "          const docLinkHtml = 'Like what you see? Visit the ' +\n",
              "            '<a target=\"_blank\" href=https://colab.research.google.com/notebooks/data_table.ipynb>data table notebook</a>'\n",
              "            + ' to learn more about interactive tables.';\n",
              "          element.innerHTML = '';\n",
              "          dataTable['output_type'] = 'display_data';\n",
              "          await google.colab.output.renderOutput(dataTable, element);\n",
              "          const docLink = document.createElement('div');\n",
              "          docLink.innerHTML = docLinkHtml;\n",
              "          element.appendChild(docLink);\n",
              "        }\n",
              "      </script>\n",
              "    </div>\n",
              "  </div>\n",
              "  "
            ]
          },
          "metadata": {},
          "execution_count": 147
        }
      ]
    },
    {
      "cell_type": "code",
      "source": [
        "# plot the clusters\n",
        "plt.scatter(df1.iloc[:, 0], df1.iloc[:, 2], c=pred_y, cmap='viridis')\n",
        "centers = kmeans.cluster_centers_\n",
        "plt.scatter(centers[:, 0], centers[:, 2], c='black', s=200, alpha=0.5)\n",
        "plt.title('Cluster Plot')\n",
        "plt.xlabel('Quantity')\n",
        "plt.ylabel('Total Price')\n",
        "plt.show()"
      ],
      "metadata": {
        "colab": {
          "base_uri": "https://localhost:8080/",
          "height": 496
        },
        "id": "CwYp455Th1uY",
        "outputId": "4097182b-78e7-4ee7-f82d-7bd770e4b3ab"
      },
      "execution_count": null,
      "outputs": [
        {
          "output_type": "display_data",
          "data": {
            "text/plain": [
              "<Figure size 1000x500 with 1 Axes>"
            ],
            "image/png": "[encoded data removed]"
          },
          "metadata": {}
        }
      ]
    },
    {
      "cell_type": "code",
      "source": [
        "sns.boxplot(x='Cluster', y='MonetaryValue', data=df1)"
      ],
      "metadata": {
        "colab": {
          "base_uri": "https://localhost:8080/",
          "height": 490
        },
        "id": "iAvWYvnKuDCN",
        "outputId": "c6cd2c06-8430-4806-b58b-84ae8ab15149"
      },
      "execution_count": null,
      "outputs": [
        {
          "output_type": "execute_result",
          "data": {
            "text/plain": [
              "<Axes: xlabel='Cluster', ylabel='MonetaryValue'>"
            ]
          },
          "metadata": {},
          "execution_count": 149
        },
        {
          "output_type": "display_data",
          "data": {
            "text/plain": [
              "<Figure size 1000x500 with 1 Axes>"
            ],
            "image/png": "[encoded data removed]"
          },
          "metadata": {}
        }
      ]
    },
    {
      "cell_type": "code",
      "source": [
        "sns.boxplot(x='Cluster', y='Frequency', data=df1)"
      ],
      "metadata": {
        "colab": {
          "base_uri": "https://localhost:8080/",
          "height": 490
        },
        "id": "-dVc8OOGvjkl",
        "outputId": "c31a88af-e5da-47b4-aaed-b8bfb18922d8"
      },
      "execution_count": null,
      "outputs": [
        {
          "output_type": "execute_result",
          "data": {
            "text/plain": [
              "<Axes: xlabel='Cluster', ylabel='Frequency'>"
            ]
          },
          "metadata": {},
          "execution_count": 150
        },
        {
          "output_type": "display_data",
          "data": {
            "text/plain": [
              "<Figure size 1000x500 with 1 Axes>"
            ],
            "image/png": "[encoded data removed]"
          },
          "metadata": {}
        }
      ]
    },
    {
      "cell_type": "code",
      "source": [
        "sns.boxplot(x='Cluster', y='Recency', data=df1)"
      ],
      "metadata": {
        "colab": {
          "base_uri": "https://localhost:8080/",
          "height": 490
        },
        "id": "SzyAKfl0v7hI",
        "outputId": "0a344dee-c378-48cf-84c5-5e7d3d0de735"
      },
      "execution_count": null,
      "outputs": [
        {
          "output_type": "execute_result",
          "data": {
            "text/plain": [
              "<Axes: xlabel='Cluster', ylabel='Recency'>"
            ]
          },
          "metadata": {},
          "execution_count": 151
        },
        {
          "output_type": "display_data",
          "data": {
            "text/plain": [
              "<Figure size 1000x500 with 1 Axes>"
            ],
            "image/png": "[encoded data removed]"
          },
          "metadata": {}
        }
      ]
    }
  ]
}